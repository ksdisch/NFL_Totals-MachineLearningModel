{
 "cells": [
  {
   "cell_type": "markdown",
   "id": "c845d9a7",
   "metadata": {},
   "source": [
    "# NFL Over Under Machine Learning"
   ]
  },
  {
   "cell_type": "markdown",
   "id": "6a967339",
   "metadata": {},
   "source": [
    "## Pre Processing"
   ]
  },
  {
   "cell_type": "code",
   "execution_count": 1,
   "id": "6f3f492a",
   "metadata": {},
   "outputs": [],
   "source": [
    "# import dependencies\n",
    "from pathlib import Path\n",
    "import pandas as pd\n",
    "from matplotlib import pyplot as plt\n",
    "import os\n",
    "\n",
    "from sklearn.model_selection import train_test_split\n",
    "from sklearn.preprocessing import StandardScaler\n",
    "from sklearn.decomposition import PCA\n",
    "\n",
    "from sklearn.linear_model import LogisticRegression\n",
    "from sklearn.linear_model import Perceptron\n",
    "from sklearn.linear_model import PassiveAggressiveClassifier\n",
    "from sklearn.linear_model import RidgeClassifier\n",
    "from sklearn.svm import SVC\n",
    "from sklearn.svm import NuSVC\n",
    "from sklearn import tree\n",
    "from sklearn.ensemble import RandomForestClassifier, AdaBoostClassifier\n",
    "from sklearn.ensemble import BaggingClassifier\n",
    "from sklearn.ensemble import GradientBoostingClassifier\n",
    "from sklearn.ensemble import ExtraTreesClassifier\n",
    "from sklearn.ensemble import HistGradientBoostingClassifier\n",
    "from sklearn.naive_bayes import GaussianNB\n",
    "from sklearn.discriminant_analysis import LinearDiscriminantAnalysis\n",
    "from sklearn.discriminant_analysis import QuadraticDiscriminantAnalysis\n",
    "from sklearn.neighbors import KNeighborsClassifier\n",
    "from sklearn.gaussian_process import GaussianProcessClassifier\n",
    "from sklearn.gaussian_process.kernels import RBF\n",
    "from sklearn.neural_network import MLPClassifier\n",
    "\n",
    "import tensorflow as tf\n",
    "from tensorflow.keras.callbacks import ModelCheckpoint\n",
    "\n",
    "from sklearn.metrics import accuracy_score\n",
    "from sklearn.metrics import confusion_matrix, accuracy_score, classification_report\n"
   ]
  },
  {
   "cell_type": "code",
   "execution_count": 2,
   "id": "ae053e91",
   "metadata": {},
   "outputs": [
    {
     "data": {
      "text/html": [
       "<div>\n",
       "<style scoped>\n",
       "    .dataframe tbody tr th:only-of-type {\n",
       "        vertical-align: middle;\n",
       "    }\n",
       "\n",
       "    .dataframe tbody tr th {\n",
       "        vertical-align: top;\n",
       "    }\n",
       "\n",
       "    .dataframe thead th {\n",
       "        text-align: right;\n",
       "    }\n",
       "</style>\n",
       "<table border=\"1\" class=\"dataframe\">\n",
       "  <thead>\n",
       "    <tr style=\"text-align: right;\">\n",
       "      <th></th>\n",
       "      <th>index</th>\n",
       "      <th>schedule_date</th>\n",
       "      <th>schedule_season</th>\n",
       "      <th>schedule_week</th>\n",
       "      <th>team_home</th>\n",
       "      <th>team_home_full</th>\n",
       "      <th>team_away</th>\n",
       "      <th>team_away_full</th>\n",
       "      <th>score_home</th>\n",
       "      <th>score_away</th>\n",
       "      <th>...</th>\n",
       "      <th>dvoa_special_cumulative</th>\n",
       "      <th>dvoa_special_difference</th>\n",
       "      <th>dvoa_home_offense_matchup</th>\n",
       "      <th>dvoa_away_offense_matchup</th>\n",
       "      <th>dvoa_offdefdiff_cumulative</th>\n",
       "      <th>dvoa_offefdiff_difference</th>\n",
       "      <th>composite_pace_average</th>\n",
       "      <th>composite_pace_difference</th>\n",
       "      <th>offense_matchup_cumulative</th>\n",
       "      <th>offense_matchup_difference</th>\n",
       "    </tr>\n",
       "  </thead>\n",
       "  <tbody>\n",
       "    <tr>\n",
       "      <th>0</th>\n",
       "      <td>1</td>\n",
       "      <td>9/5/1993</td>\n",
       "      <td>1993</td>\n",
       "      <td>1</td>\n",
       "      <td>BUF</td>\n",
       "      <td>BUF1993</td>\n",
       "      <td>NE</td>\n",
       "      <td>NE1993</td>\n",
       "      <td>38</td>\n",
       "      <td>14</td>\n",
       "      <td>...</td>\n",
       "      <td>8.0</td>\n",
       "      <td>6.4</td>\n",
       "      <td>9.6</td>\n",
       "      <td>-17.7</td>\n",
       "      <td>-8.1</td>\n",
       "      <td>1.1</td>\n",
       "      <td>26.2650</td>\n",
       "      <td>3.600</td>\n",
       "      <td>-8.1</td>\n",
       "      <td>27.3</td>\n",
       "    </tr>\n",
       "    <tr>\n",
       "      <th>1</th>\n",
       "      <td>2</td>\n",
       "      <td>9/5/1993</td>\n",
       "      <td>1993</td>\n",
       "      <td>1</td>\n",
       "      <td>CHI</td>\n",
       "      <td>CHI1993</td>\n",
       "      <td>NYG</td>\n",
       "      <td>NYG1993</td>\n",
       "      <td>20</td>\n",
       "      <td>26</td>\n",
       "      <td>...</td>\n",
       "      <td>2.1</td>\n",
       "      <td>1.8</td>\n",
       "      <td>-15.2</td>\n",
       "      <td>6.5</td>\n",
       "      <td>-8.7</td>\n",
       "      <td>29.9</td>\n",
       "      <td>30.6750</td>\n",
       "      <td>0.560</td>\n",
       "      <td>-8.7</td>\n",
       "      <td>21.7</td>\n",
       "    </tr>\n",
       "    <tr>\n",
       "      <th>2</th>\n",
       "      <td>3</td>\n",
       "      <td>9/5/1993</td>\n",
       "      <td>1993</td>\n",
       "      <td>1</td>\n",
       "      <td>CLE</td>\n",
       "      <td>CLE1993</td>\n",
       "      <td>CIN</td>\n",
       "      <td>CIN1993</td>\n",
       "      <td>27</td>\n",
       "      <td>14</td>\n",
       "      <td>...</td>\n",
       "      <td>22.0</td>\n",
       "      <td>5.7</td>\n",
       "      <td>9.4</td>\n",
       "      <td>-16.3</td>\n",
       "      <td>-6.9</td>\n",
       "      <td>12.3</td>\n",
       "      <td>29.9425</td>\n",
       "      <td>2.565</td>\n",
       "      <td>-6.9</td>\n",
       "      <td>25.7</td>\n",
       "    </tr>\n",
       "    <tr>\n",
       "      <th>3</th>\n",
       "      <td>4</td>\n",
       "      <td>9/5/1993</td>\n",
       "      <td>1993</td>\n",
       "      <td>1</td>\n",
       "      <td>DET</td>\n",
       "      <td>DET1993</td>\n",
       "      <td>ATL</td>\n",
       "      <td>ATL1993</td>\n",
       "      <td>30</td>\n",
       "      <td>13</td>\n",
       "      <td>...</td>\n",
       "      <td>12.7</td>\n",
       "      <td>1.3</td>\n",
       "      <td>-4.3</td>\n",
       "      <td>-11.6</td>\n",
       "      <td>-15.9</td>\n",
       "      <td>15.7</td>\n",
       "      <td>31.4300</td>\n",
       "      <td>1.560</td>\n",
       "      <td>-15.9</td>\n",
       "      <td>7.3</td>\n",
       "    </tr>\n",
       "    <tr>\n",
       "      <th>4</th>\n",
       "      <td>5</td>\n",
       "      <td>9/5/1993</td>\n",
       "      <td>1993</td>\n",
       "      <td>1</td>\n",
       "      <td>GB</td>\n",
       "      <td>GB1993</td>\n",
       "      <td>LAR</td>\n",
       "      <td>LAR1993</td>\n",
       "      <td>36</td>\n",
       "      <td>6</td>\n",
       "      <td>...</td>\n",
       "      <td>24.9</td>\n",
       "      <td>11.1</td>\n",
       "      <td>16.3</td>\n",
       "      <td>-6.5</td>\n",
       "      <td>9.8</td>\n",
       "      <td>34.8</td>\n",
       "      <td>29.4900</td>\n",
       "      <td>0.190</td>\n",
       "      <td>9.8</td>\n",
       "      <td>22.8</td>\n",
       "    </tr>\n",
       "  </tbody>\n",
       "</table>\n",
       "<p>5 rows × 51 columns</p>\n",
       "</div>"
      ],
      "text/plain": [
       "   index schedule_date  schedule_season  schedule_week team_home  \\\n",
       "0      1      9/5/1993             1993              1       BUF   \n",
       "1      2      9/5/1993             1993              1       CHI   \n",
       "2      3      9/5/1993             1993              1       CLE   \n",
       "3      4      9/5/1993             1993              1       DET   \n",
       "4      5      9/5/1993             1993              1        GB   \n",
       "\n",
       "  team_home_full team_away team_away_full  score_home  score_away  ...  \\\n",
       "0        BUF1993        NE         NE1993          38          14  ...   \n",
       "1        CHI1993       NYG        NYG1993          20          26  ...   \n",
       "2        CLE1993       CIN        CIN1993          27          14  ...   \n",
       "3        DET1993       ATL        ATL1993          30          13  ...   \n",
       "4         GB1993       LAR        LAR1993          36           6  ...   \n",
       "\n",
       "   dvoa_special_cumulative  dvoa_special_difference  \\\n",
       "0                      8.0                      6.4   \n",
       "1                      2.1                      1.8   \n",
       "2                     22.0                      5.7   \n",
       "3                     12.7                      1.3   \n",
       "4                     24.9                     11.1   \n",
       "\n",
       "   dvoa_home_offense_matchup  dvoa_away_offense_matchup  \\\n",
       "0                        9.6                      -17.7   \n",
       "1                      -15.2                        6.5   \n",
       "2                        9.4                      -16.3   \n",
       "3                       -4.3                      -11.6   \n",
       "4                       16.3                       -6.5   \n",
       "\n",
       "   dvoa_offdefdiff_cumulative  dvoa_offefdiff_difference  \\\n",
       "0                        -8.1                        1.1   \n",
       "1                        -8.7                       29.9   \n",
       "2                        -6.9                       12.3   \n",
       "3                       -15.9                       15.7   \n",
       "4                         9.8                       34.8   \n",
       "\n",
       "   composite_pace_average  composite_pace_difference  \\\n",
       "0                 26.2650                      3.600   \n",
       "1                 30.6750                      0.560   \n",
       "2                 29.9425                      2.565   \n",
       "3                 31.4300                      1.560   \n",
       "4                 29.4900                      0.190   \n",
       "\n",
       "   offense_matchup_cumulative  offense_matchup_difference  \n",
       "0                        -8.1                        27.3  \n",
       "1                        -8.7                        21.7  \n",
       "2                        -6.9                        25.7  \n",
       "3                       -15.9                         7.3  \n",
       "4                         9.8                        22.8  \n",
       "\n",
       "[5 rows x 51 columns]"
      ]
     },
     "execution_count": 2,
     "metadata": {},
     "output_type": "execute_result"
    }
   ],
   "source": [
    "# import data\n",
    "data = Path('nfl_ml_dataset.csv')\n",
    "df = pd.read_csv(data)\n",
    "df.head()"
   ]
  },
  {
   "cell_type": "code",
   "execution_count": 3,
   "id": "e4ac0a8e",
   "metadata": {
    "scrolled": true
   },
   "outputs": [
    {
     "data": {
      "text/html": [
       "<div>\n",
       "<style scoped>\n",
       "    .dataframe tbody tr th:only-of-type {\n",
       "        vertical-align: middle;\n",
       "    }\n",
       "\n",
       "    .dataframe tbody tr th {\n",
       "        vertical-align: top;\n",
       "    }\n",
       "\n",
       "    .dataframe thead th {\n",
       "        text-align: right;\n",
       "    }\n",
       "</style>\n",
       "<table border=\"1\" class=\"dataframe\">\n",
       "  <thead>\n",
       "    <tr style=\"text-align: right;\">\n",
       "      <th></th>\n",
       "      <th>schedule_season</th>\n",
       "      <th>schedule_week</th>\n",
       "      <th>over_under_line</th>\n",
       "      <th>spread_favorite</th>\n",
       "      <th>home_total_dvoa</th>\n",
       "      <th>home_weighted_dvoa</th>\n",
       "      <th>home_offense_dvoa</th>\n",
       "      <th>home_defense_dvoa</th>\n",
       "      <th>home_special_dvoa</th>\n",
       "      <th>home_off_def_difference</th>\n",
       "      <th>...</th>\n",
       "      <th>dvoa_special_cumulative</th>\n",
       "      <th>dvoa_special_difference</th>\n",
       "      <th>dvoa_home_offense_matchup</th>\n",
       "      <th>dvoa_away_offense_matchup</th>\n",
       "      <th>dvoa_offdefdiff_cumulative</th>\n",
       "      <th>dvoa_offefdiff_difference</th>\n",
       "      <th>composite_pace_average</th>\n",
       "      <th>composite_pace_difference</th>\n",
       "      <th>offense_matchup_cumulative</th>\n",
       "      <th>offense_matchup_difference</th>\n",
       "    </tr>\n",
       "  </thead>\n",
       "  <tbody>\n",
       "    <tr>\n",
       "      <th>0</th>\n",
       "      <td>1993</td>\n",
       "      <td>1</td>\n",
       "      <td>38.5</td>\n",
       "      <td>-14.0</td>\n",
       "      <td>7.8</td>\n",
       "      <td>-2.0</td>\n",
       "      <td>2.0</td>\n",
       "      <td>-5.5</td>\n",
       "      <td>0.4</td>\n",
       "      <td>-3.5</td>\n",
       "      <td>...</td>\n",
       "      <td>8.0</td>\n",
       "      <td>6.4</td>\n",
       "      <td>9.6</td>\n",
       "      <td>-17.7</td>\n",
       "      <td>-8.1</td>\n",
       "      <td>1.1</td>\n",
       "      <td>26.2650</td>\n",
       "      <td>3.600</td>\n",
       "      <td>-8.1</td>\n",
       "      <td>27.3</td>\n",
       "    </tr>\n",
       "    <tr>\n",
       "      <th>1</th>\n",
       "      <td>1993</td>\n",
       "      <td>1</td>\n",
       "      <td>35.0</td>\n",
       "      <td>-1.0</td>\n",
       "      <td>-7.2</td>\n",
       "      <td>-12.6</td>\n",
       "      <td>-14.6</td>\n",
       "      <td>-4.7</td>\n",
       "      <td>2.7</td>\n",
       "      <td>-19.3</td>\n",
       "      <td>...</td>\n",
       "      <td>2.1</td>\n",
       "      <td>1.8</td>\n",
       "      <td>-15.2</td>\n",
       "      <td>6.5</td>\n",
       "      <td>-8.7</td>\n",
       "      <td>29.9</td>\n",
       "      <td>30.6750</td>\n",
       "      <td>0.560</td>\n",
       "      <td>-8.7</td>\n",
       "      <td>21.7</td>\n",
       "    </tr>\n",
       "    <tr>\n",
       "      <th>2</th>\n",
       "      <td>1993</td>\n",
       "      <td>1</td>\n",
       "      <td>35.5</td>\n",
       "      <td>-7.5</td>\n",
       "      <td>0.0</td>\n",
       "      <td>5.6</td>\n",
       "      <td>-7.4</td>\n",
       "      <td>-2.2</td>\n",
       "      <td>5.2</td>\n",
       "      <td>-9.6</td>\n",
       "      <td>...</td>\n",
       "      <td>22.0</td>\n",
       "      <td>5.7</td>\n",
       "      <td>9.4</td>\n",
       "      <td>-16.3</td>\n",
       "      <td>-6.9</td>\n",
       "      <td>12.3</td>\n",
       "      <td>29.9425</td>\n",
       "      <td>2.565</td>\n",
       "      <td>-6.9</td>\n",
       "      <td>25.7</td>\n",
       "    </tr>\n",
       "    <tr>\n",
       "      <th>3</th>\n",
       "      <td>1993</td>\n",
       "      <td>1</td>\n",
       "      <td>44.0</td>\n",
       "      <td>-5.0</td>\n",
       "      <td>-2.3</td>\n",
       "      <td>-0.4</td>\n",
       "      <td>-11.7</td>\n",
       "      <td>-4.1</td>\n",
       "      <td>5.3</td>\n",
       "      <td>-15.8</td>\n",
       "      <td>...</td>\n",
       "      <td>12.7</td>\n",
       "      <td>1.3</td>\n",
       "      <td>-4.3</td>\n",
       "      <td>-11.6</td>\n",
       "      <td>-15.9</td>\n",
       "      <td>15.7</td>\n",
       "      <td>31.4300</td>\n",
       "      <td>1.560</td>\n",
       "      <td>-15.9</td>\n",
       "      <td>7.3</td>\n",
       "    </tr>\n",
       "    <tr>\n",
       "      <th>4</th>\n",
       "      <td>1993</td>\n",
       "      <td>1</td>\n",
       "      <td>38.5</td>\n",
       "      <td>-6.5</td>\n",
       "      <td>10.8</td>\n",
       "      <td>9.7</td>\n",
       "      <td>-3.4</td>\n",
       "      <td>-9.1</td>\n",
       "      <td>5.2</td>\n",
       "      <td>-12.5</td>\n",
       "      <td>...</td>\n",
       "      <td>24.9</td>\n",
       "      <td>11.1</td>\n",
       "      <td>16.3</td>\n",
       "      <td>-6.5</td>\n",
       "      <td>9.8</td>\n",
       "      <td>34.8</td>\n",
       "      <td>29.4900</td>\n",
       "      <td>0.190</td>\n",
       "      <td>9.8</td>\n",
       "      <td>22.8</td>\n",
       "    </tr>\n",
       "  </tbody>\n",
       "</table>\n",
       "<p>5 rows × 40 columns</p>\n",
       "</div>"
      ],
      "text/plain": [
       "   schedule_season  schedule_week  over_under_line  spread_favorite  \\\n",
       "0             1993              1             38.5            -14.0   \n",
       "1             1993              1             35.0             -1.0   \n",
       "2             1993              1             35.5             -7.5   \n",
       "3             1993              1             44.0             -5.0   \n",
       "4             1993              1             38.5             -6.5   \n",
       "\n",
       "   home_total_dvoa  home_weighted_dvoa  home_offense_dvoa  home_defense_dvoa  \\\n",
       "0              7.8                -2.0                2.0               -5.5   \n",
       "1             -7.2               -12.6              -14.6               -4.7   \n",
       "2              0.0                 5.6               -7.4               -2.2   \n",
       "3             -2.3                -0.4              -11.7               -4.1   \n",
       "4             10.8                 9.7               -3.4               -9.1   \n",
       "\n",
       "   home_special_dvoa  home_off_def_difference  ...  dvoa_special_cumulative  \\\n",
       "0                0.4                     -3.5  ...                      8.0   \n",
       "1                2.7                    -19.3  ...                      2.1   \n",
       "2                5.2                     -9.6  ...                     22.0   \n",
       "3                5.3                    -15.8  ...                     12.7   \n",
       "4                5.2                    -12.5  ...                     24.9   \n",
       "\n",
       "   dvoa_special_difference  dvoa_home_offense_matchup  \\\n",
       "0                      6.4                        9.6   \n",
       "1                      1.8                      -15.2   \n",
       "2                      5.7                        9.4   \n",
       "3                      1.3                       -4.3   \n",
       "4                     11.1                       16.3   \n",
       "\n",
       "   dvoa_away_offense_matchup  dvoa_offdefdiff_cumulative  \\\n",
       "0                      -17.7                        -8.1   \n",
       "1                        6.5                        -8.7   \n",
       "2                      -16.3                        -6.9   \n",
       "3                      -11.6                       -15.9   \n",
       "4                       -6.5                         9.8   \n",
       "\n",
       "   dvoa_offefdiff_difference  composite_pace_average  \\\n",
       "0                        1.1                 26.2650   \n",
       "1                       29.9                 30.6750   \n",
       "2                       12.3                 29.9425   \n",
       "3                       15.7                 31.4300   \n",
       "4                       34.8                 29.4900   \n",
       "\n",
       "   composite_pace_difference  offense_matchup_cumulative  \\\n",
       "0                      3.600                        -8.1   \n",
       "1                      0.560                        -8.7   \n",
       "2                      2.565                        -6.9   \n",
       "3                      1.560                       -15.9   \n",
       "4                      0.190                         9.8   \n",
       "\n",
       "   offense_matchup_difference  \n",
       "0                        27.3  \n",
       "1                        21.7  \n",
       "2                        25.7  \n",
       "3                         7.3  \n",
       "4                        22.8  \n",
       "\n",
       "[5 rows x 40 columns]"
      ]
     },
     "execution_count": 3,
     "metadata": {},
     "output_type": "execute_result"
    }
   ],
   "source": [
    "# define target variable and drop irrelevant columns for ML\n",
    "y = df['over_binary']\n",
    "\n",
    "X = df.drop(columns=['index', 'schedule_date', 'team_home', 'team_home_full', 'team_away', 'team_away_full', \n",
    "                     'score_home', 'score_away', 'score_total', 'over_under_diff', 'over_binary'])\n",
    "X.head()"
   ]
  },
  {
   "cell_type": "code",
   "execution_count": 4,
   "id": "cedc033d",
   "metadata": {},
   "outputs": [
    {
     "name": "stdout",
     "output_type": "stream",
     "text": [
      "(4476, 40)\n",
      "(1493, 40)\n"
     ]
    }
   ],
   "source": [
    "# split data into training and testing sets\n",
    "X_train, X_test, y_train, y_test = train_test_split(X, \n",
    "                                                    y, \n",
    "                                                    random_state=1, \n",
    "                                                    stratify=y)\n",
    "print(X_train.shape)\n",
    "print(X_test.shape)"
   ]
  },
  {
   "cell_type": "code",
   "execution_count": 5,
   "id": "278dbd2d",
   "metadata": {},
   "outputs": [],
   "source": [
    "# creating and fitting a Standard Scaler with the training data\n",
    "scaler = StandardScaler()\n",
    "X_scaler = scaler.fit(X_train)\n",
    "\n",
    "# scaling the data\n",
    "X_train_scaled = X_scaler.transform(X_train)\n",
    "X_test_scaled = X_scaler.transform(X_test)"
   ]
  },
  {
   "cell_type": "code",
   "execution_count": 6,
   "id": "cadfb497",
   "metadata": {},
   "outputs": [
    {
     "name": "stdout",
     "output_type": "stream",
     "text": [
      "[0.17802329 0.14387883 0.12214757 0.1022925  0.08838725]\n"
     ]
    },
    {
     "data": {
      "text/html": [
       "<div>\n",
       "<style scoped>\n",
       "    .dataframe tbody tr th:only-of-type {\n",
       "        vertical-align: middle;\n",
       "    }\n",
       "\n",
       "    .dataframe tbody tr th {\n",
       "        vertical-align: top;\n",
       "    }\n",
       "\n",
       "    .dataframe thead th {\n",
       "        text-align: right;\n",
       "    }\n",
       "</style>\n",
       "<table border=\"1\" class=\"dataframe\">\n",
       "  <thead>\n",
       "    <tr style=\"text-align: right;\">\n",
       "      <th></th>\n",
       "      <th>0</th>\n",
       "      <th>1</th>\n",
       "      <th>2</th>\n",
       "      <th>3</th>\n",
       "      <th>4</th>\n",
       "    </tr>\n",
       "  </thead>\n",
       "  <tbody>\n",
       "    <tr>\n",
       "      <th>0</th>\n",
       "      <td>1.127885</td>\n",
       "      <td>-1.883248</td>\n",
       "      <td>-2.132065</td>\n",
       "      <td>-1.037568</td>\n",
       "      <td>-0.736114</td>\n",
       "    </tr>\n",
       "    <tr>\n",
       "      <th>1</th>\n",
       "      <td>-1.576872</td>\n",
       "      <td>-0.041532</td>\n",
       "      <td>2.084383</td>\n",
       "      <td>-0.336740</td>\n",
       "      <td>-1.197103</td>\n",
       "    </tr>\n",
       "    <tr>\n",
       "      <th>2</th>\n",
       "      <td>3.076199</td>\n",
       "      <td>-0.938935</td>\n",
       "      <td>-1.853958</td>\n",
       "      <td>0.042212</td>\n",
       "      <td>2.280318</td>\n",
       "    </tr>\n",
       "    <tr>\n",
       "      <th>3</th>\n",
       "      <td>-2.773816</td>\n",
       "      <td>1.987868</td>\n",
       "      <td>-2.301819</td>\n",
       "      <td>0.768627</td>\n",
       "      <td>-0.234991</td>\n",
       "    </tr>\n",
       "    <tr>\n",
       "      <th>4</th>\n",
       "      <td>5.745594</td>\n",
       "      <td>-0.283713</td>\n",
       "      <td>3.984775</td>\n",
       "      <td>3.476854</td>\n",
       "      <td>-0.603934</td>\n",
       "    </tr>\n",
       "    <tr>\n",
       "      <th>...</th>\n",
       "      <td>...</td>\n",
       "      <td>...</td>\n",
       "      <td>...</td>\n",
       "      <td>...</td>\n",
       "      <td>...</td>\n",
       "    </tr>\n",
       "    <tr>\n",
       "      <th>4471</th>\n",
       "      <td>3.679728</td>\n",
       "      <td>2.019971</td>\n",
       "      <td>0.444859</td>\n",
       "      <td>-1.641403</td>\n",
       "      <td>1.465483</td>\n",
       "    </tr>\n",
       "    <tr>\n",
       "      <th>4472</th>\n",
       "      <td>0.959876</td>\n",
       "      <td>-5.545345</td>\n",
       "      <td>2.232167</td>\n",
       "      <td>1.094216</td>\n",
       "      <td>-0.897028</td>\n",
       "    </tr>\n",
       "    <tr>\n",
       "      <th>4473</th>\n",
       "      <td>-0.921686</td>\n",
       "      <td>0.733052</td>\n",
       "      <td>0.330246</td>\n",
       "      <td>-0.198439</td>\n",
       "      <td>4.047368</td>\n",
       "    </tr>\n",
       "    <tr>\n",
       "      <th>4474</th>\n",
       "      <td>-0.457432</td>\n",
       "      <td>-1.321951</td>\n",
       "      <td>-1.134220</td>\n",
       "      <td>0.373674</td>\n",
       "      <td>4.361303</td>\n",
       "    </tr>\n",
       "    <tr>\n",
       "      <th>4475</th>\n",
       "      <td>2.832815</td>\n",
       "      <td>-0.580597</td>\n",
       "      <td>-1.247110</td>\n",
       "      <td>-0.978228</td>\n",
       "      <td>1.355448</td>\n",
       "    </tr>\n",
       "  </tbody>\n",
       "</table>\n",
       "<p>4476 rows × 5 columns</p>\n",
       "</div>"
      ],
      "text/plain": [
       "             0         1         2         3         4\n",
       "0     1.127885 -1.883248 -2.132065 -1.037568 -0.736114\n",
       "1    -1.576872 -0.041532  2.084383 -0.336740 -1.197103\n",
       "2     3.076199 -0.938935 -1.853958  0.042212  2.280318\n",
       "3    -2.773816  1.987868 -2.301819  0.768627 -0.234991\n",
       "4     5.745594 -0.283713  3.984775  3.476854 -0.603934\n",
       "...        ...       ...       ...       ...       ...\n",
       "4471  3.679728  2.019971  0.444859 -1.641403  1.465483\n",
       "4472  0.959876 -5.545345  2.232167  1.094216 -0.897028\n",
       "4473 -0.921686  0.733052  0.330246 -0.198439  4.047368\n",
       "4474 -0.457432 -1.321951 -1.134220  0.373674  4.361303\n",
       "4475  2.832815 -0.580597 -1.247110 -0.978228  1.355448\n",
       "\n",
       "[4476 rows x 5 columns]"
      ]
     },
     "execution_count": 6,
     "metadata": {},
     "output_type": "execute_result"
    }
   ],
   "source": [
    "# optional pca\n",
    "pca = PCA(n_components=5)\n",
    "pca.fit(X_train_scaled)\n",
    "pca.fit(X_test_scaled)\n",
    "print(pca.explained_variance_ratio_)\n",
    "X_train_pca = pca.transform(X_train_scaled)\n",
    "X_test_pca = pca.transform(X_test_scaled)\n",
    "df_pca = pd.DataFrame(X_train_pca)\n",
    "df_pca"
   ]
  },
  {
   "cell_type": "markdown",
   "id": "bf52a301",
   "metadata": {},
   "source": [
    "## ML Algorithms"
   ]
  },
  {
   "cell_type": "markdown",
   "id": "928700a1",
   "metadata": {},
   "source": [
    "### Logisitic Regression"
   ]
  },
  {
   "cell_type": "code",
   "execution_count": 7,
   "id": "3c26370a",
   "metadata": {},
   "outputs": [
    {
     "data": {
      "text/plain": [
       "LogisticRegression(max_iter=128, random_state=0)"
      ]
     },
     "execution_count": 7,
     "metadata": {},
     "output_type": "execute_result"
    }
   ],
   "source": [
    "classifier = LogisticRegression(solver='lbfgs',\n",
    "                                max_iter=128,\n",
    "                                random_state=0)\n",
    "classifier.fit(X_train_scaled, y_train)"
   ]
  },
  {
   "cell_type": "code",
   "execution_count": 8,
   "id": "2b98dd6f",
   "metadata": {},
   "outputs": [
    {
     "data": {
      "text/html": [
       "<div>\n",
       "<style scoped>\n",
       "    .dataframe tbody tr th:only-of-type {\n",
       "        vertical-align: middle;\n",
       "    }\n",
       "\n",
       "    .dataframe tbody tr th {\n",
       "        vertical-align: top;\n",
       "    }\n",
       "\n",
       "    .dataframe thead th {\n",
       "        text-align: right;\n",
       "    }\n",
       "</style>\n",
       "<table border=\"1\" class=\"dataframe\">\n",
       "  <thead>\n",
       "    <tr style=\"text-align: right;\">\n",
       "      <th></th>\n",
       "      <th>Predicted Under</th>\n",
       "      <th>Predicted Over</th>\n",
       "    </tr>\n",
       "  </thead>\n",
       "  <tbody>\n",
       "    <tr>\n",
       "      <th>Actual Under</th>\n",
       "      <td>446</td>\n",
       "      <td>312</td>\n",
       "    </tr>\n",
       "    <tr>\n",
       "      <th>Actual Over</th>\n",
       "      <td>324</td>\n",
       "      <td>411</td>\n",
       "    </tr>\n",
       "  </tbody>\n",
       "</table>\n",
       "</div>"
      ],
      "text/plain": [
       "              Predicted Under  Predicted Over\n",
       "Actual Under              446             312\n",
       "Actual Over               324             411"
      ]
     },
     "metadata": {},
     "output_type": "display_data"
    },
    {
     "name": "stdout",
     "output_type": "stream",
     "text": [
      "Accuracy Score : 0.5740120562625586\n",
      "              precision    recall  f1-score   support\n",
      "\n",
      "           0       0.58      0.59      0.58       758\n",
      "           1       0.57      0.56      0.56       735\n",
      "\n",
      "    accuracy                           0.57      1493\n",
      "   macro avg       0.57      0.57      0.57      1493\n",
      "weighted avg       0.57      0.57      0.57      1493\n",
      "\n"
     ]
    }
   ],
   "source": [
    "predictions = classifier.predict(X_test_scaled)\n",
    "results = pd.DataFrame({'Prediction':predictions, 'Actual':y_test}).reset_index(drop=True)\n",
    "\n",
    "cm = confusion_matrix(y_test, predictions)\n",
    "cm_df = pd.DataFrame(\n",
    "    cm, index=[\"Actual Under\", \"Actual Over\"], columns=[\"Predicted Under\", \"Predicted Over\"])\n",
    "logreg_acc_score = accuracy_score(y_test, predictions)\n",
    "\n",
    "display(cm_df)\n",
    "print(f\"Accuracy Score : {logreg_acc_score}\")\n",
    "print(classification_report(y_test, predictions))"
   ]
  },
  {
   "cell_type": "markdown",
   "id": "5a4e9898",
   "metadata": {},
   "source": [
    "### Perceptron"
   ]
  },
  {
   "cell_type": "code",
   "execution_count": 9,
   "id": "6545807a",
   "metadata": {},
   "outputs": [
    {
     "data": {
      "text/plain": [
       "Perceptron()"
      ]
     },
     "execution_count": 9,
     "metadata": {},
     "output_type": "execute_result"
    }
   ],
   "source": [
    "classifier = Perceptron(random_state=0)\n",
    "classifier.fit(X_train_scaled, y_train)"
   ]
  },
  {
   "cell_type": "code",
   "execution_count": 10,
   "id": "006713f5",
   "metadata": {},
   "outputs": [
    {
     "data": {
      "text/html": [
       "<div>\n",
       "<style scoped>\n",
       "    .dataframe tbody tr th:only-of-type {\n",
       "        vertical-align: middle;\n",
       "    }\n",
       "\n",
       "    .dataframe tbody tr th {\n",
       "        vertical-align: top;\n",
       "    }\n",
       "\n",
       "    .dataframe thead th {\n",
       "        text-align: right;\n",
       "    }\n",
       "</style>\n",
       "<table border=\"1\" class=\"dataframe\">\n",
       "  <thead>\n",
       "    <tr style=\"text-align: right;\">\n",
       "      <th></th>\n",
       "      <th>Predicted Under</th>\n",
       "      <th>Predicted Over</th>\n",
       "    </tr>\n",
       "  </thead>\n",
       "  <tbody>\n",
       "    <tr>\n",
       "      <th>Actual Under</th>\n",
       "      <td>362</td>\n",
       "      <td>396</td>\n",
       "    </tr>\n",
       "    <tr>\n",
       "      <th>Actual Over</th>\n",
       "      <td>313</td>\n",
       "      <td>422</td>\n",
       "    </tr>\n",
       "  </tbody>\n",
       "</table>\n",
       "</div>"
      ],
      "text/plain": [
       "              Predicted Under  Predicted Over\n",
       "Actual Under              362             396\n",
       "Actual Over               313             422"
      ]
     },
     "metadata": {},
     "output_type": "display_data"
    },
    {
     "name": "stdout",
     "output_type": "stream",
     "text": [
      "Accuracy Score : 0.5251172136637642\n",
      "              precision    recall  f1-score   support\n",
      "\n",
      "           0       0.54      0.48      0.51       758\n",
      "           1       0.52      0.57      0.54       735\n",
      "\n",
      "    accuracy                           0.53      1493\n",
      "   macro avg       0.53      0.53      0.52      1493\n",
      "weighted avg       0.53      0.53      0.52      1493\n",
      "\n"
     ]
    }
   ],
   "source": [
    "predictions = classifier.predict(X_test_scaled)\n",
    "results = pd.DataFrame({'Prediction':predictions, 'Actual':y_test}).reset_index(drop=True)\n",
    "\n",
    "cm = confusion_matrix(y_test, predictions)\n",
    "cm_df = pd.DataFrame(\n",
    "    cm, index=[\"Actual Under\", \"Actual Over\"], columns=[\"Predicted Under\", \"Predicted Over\"])\n",
    "percep_acc_score = accuracy_score(y_test, predictions)\n",
    "\n",
    "display(cm_df)\n",
    "print(f\"Accuracy Score : {percep_acc_score}\")\n",
    "print(classification_report(y_test, predictions))"
   ]
  },
  {
   "cell_type": "markdown",
   "id": "380a01b7",
   "metadata": {},
   "source": [
    "### Passive Aggressive Classifier"
   ]
  },
  {
   "cell_type": "code",
   "execution_count": 11,
   "id": "24926380",
   "metadata": {},
   "outputs": [
    {
     "data": {
      "text/plain": [
       "PassiveAggressiveClassifier(random_state=0)"
      ]
     },
     "execution_count": 11,
     "metadata": {},
     "output_type": "execute_result"
    }
   ],
   "source": [
    "classifier = PassiveAggressiveClassifier(random_state=0)\n",
    "classifier.fit(X_train_scaled, y_train)"
   ]
  },
  {
   "cell_type": "code",
   "execution_count": 12,
   "id": "d5b1eb19",
   "metadata": {},
   "outputs": [
    {
     "data": {
      "text/html": [
       "<div>\n",
       "<style scoped>\n",
       "    .dataframe tbody tr th:only-of-type {\n",
       "        vertical-align: middle;\n",
       "    }\n",
       "\n",
       "    .dataframe tbody tr th {\n",
       "        vertical-align: top;\n",
       "    }\n",
       "\n",
       "    .dataframe thead th {\n",
       "        text-align: right;\n",
       "    }\n",
       "</style>\n",
       "<table border=\"1\" class=\"dataframe\">\n",
       "  <thead>\n",
       "    <tr style=\"text-align: right;\">\n",
       "      <th></th>\n",
       "      <th>Predicted Under</th>\n",
       "      <th>Predicted Over</th>\n",
       "    </tr>\n",
       "  </thead>\n",
       "  <tbody>\n",
       "    <tr>\n",
       "      <th>Actual Under</th>\n",
       "      <td>372</td>\n",
       "      <td>386</td>\n",
       "    </tr>\n",
       "    <tr>\n",
       "      <th>Actual Over</th>\n",
       "      <td>335</td>\n",
       "      <td>400</td>\n",
       "    </tr>\n",
       "  </tbody>\n",
       "</table>\n",
       "</div>"
      ],
      "text/plain": [
       "              Predicted Under  Predicted Over\n",
       "Actual Under              372             386\n",
       "Actual Over               335             400"
      ]
     },
     "metadata": {},
     "output_type": "display_data"
    },
    {
     "name": "stdout",
     "output_type": "stream",
     "text": [
      "Accuracy Score : 0.5170797052913597\n",
      "              precision    recall  f1-score   support\n",
      "\n",
      "           0       0.53      0.49      0.51       758\n",
      "           1       0.51      0.54      0.53       735\n",
      "\n",
      "    accuracy                           0.52      1493\n",
      "   macro avg       0.52      0.52      0.52      1493\n",
      "weighted avg       0.52      0.52      0.52      1493\n",
      "\n"
     ]
    }
   ],
   "source": [
    "predictions = classifier.predict(X_test_scaled)\n",
    "results = pd.DataFrame({'Prediction':predictions, 'Actual':y_test}).reset_index(drop=True)\n",
    "\n",
    "cm = confusion_matrix(y_test, predictions)\n",
    "cm_df = pd.DataFrame(\n",
    "    cm, index=[\"Actual Under\", \"Actual Over\"], columns=[\"Predicted Under\", \"Predicted Over\"])\n",
    "pasagres_acc_score = accuracy_score(y_test, predictions)\n",
    "\n",
    "display(cm_df)\n",
    "print(f\"Accuracy Score : {pasagres_acc_score}\")\n",
    "print(classification_report(y_test, predictions))"
   ]
  },
  {
   "cell_type": "markdown",
   "id": "22a35372",
   "metadata": {},
   "source": [
    "### Ridge Classifier"
   ]
  },
  {
   "cell_type": "code",
   "execution_count": 13,
   "id": "db81ab2c",
   "metadata": {},
   "outputs": [
    {
     "data": {
      "text/plain": [
       "RidgeClassifier(alpha=100, random_state=0)"
      ]
     },
     "execution_count": 13,
     "metadata": {},
     "output_type": "execute_result"
    }
   ],
   "source": [
    "classifier = RidgeClassifier(alpha=100, random_state=0)\n",
    "classifier.fit(X_train_scaled, y_train)"
   ]
  },
  {
   "cell_type": "code",
   "execution_count": 14,
   "id": "05fa864e",
   "metadata": {},
   "outputs": [
    {
     "data": {
      "text/html": [
       "<div>\n",
       "<style scoped>\n",
       "    .dataframe tbody tr th:only-of-type {\n",
       "        vertical-align: middle;\n",
       "    }\n",
       "\n",
       "    .dataframe tbody tr th {\n",
       "        vertical-align: top;\n",
       "    }\n",
       "\n",
       "    .dataframe thead th {\n",
       "        text-align: right;\n",
       "    }\n",
       "</style>\n",
       "<table border=\"1\" class=\"dataframe\">\n",
       "  <thead>\n",
       "    <tr style=\"text-align: right;\">\n",
       "      <th></th>\n",
       "      <th>Predicted Under</th>\n",
       "      <th>Predicted Over</th>\n",
       "    </tr>\n",
       "  </thead>\n",
       "  <tbody>\n",
       "    <tr>\n",
       "      <th>Actual Under</th>\n",
       "      <td>452</td>\n",
       "      <td>306</td>\n",
       "    </tr>\n",
       "    <tr>\n",
       "      <th>Actual Over</th>\n",
       "      <td>323</td>\n",
       "      <td>412</td>\n",
       "    </tr>\n",
       "  </tbody>\n",
       "</table>\n",
       "</div>"
      ],
      "text/plain": [
       "              Predicted Under  Predicted Over\n",
       "Actual Under              452             306\n",
       "Actual Over               323             412"
      ]
     },
     "metadata": {},
     "output_type": "display_data"
    },
    {
     "name": "stdout",
     "output_type": "stream",
     "text": [
      "Accuracy Score : 0.578700602813128\n",
      "              precision    recall  f1-score   support\n",
      "\n",
      "           0       0.58      0.60      0.59       758\n",
      "           1       0.57      0.56      0.57       735\n",
      "\n",
      "    accuracy                           0.58      1493\n",
      "   macro avg       0.58      0.58      0.58      1493\n",
      "weighted avg       0.58      0.58      0.58      1493\n",
      "\n"
     ]
    }
   ],
   "source": [
    "predictions = classifier.predict(X_test_scaled)\n",
    "results = pd.DataFrame({'Prediction':predictions, 'Actual':y_test}).reset_index(drop=True)\n",
    "\n",
    "cm = confusion_matrix(y_test, predictions)\n",
    "cm_df = pd.DataFrame(\n",
    "    cm, index=[\"Actual Under\", \"Actual Over\"], columns=[\"Predicted Under\", \"Predicted Over\"])\n",
    "ridge_acc_score = accuracy_score(y_test, predictions)\n",
    "\n",
    "display(cm_df)\n",
    "print(f\"Accuracy Score : {ridge_acc_score}\")\n",
    "print(classification_report(y_test, predictions))"
   ]
  },
  {
   "cell_type": "markdown",
   "id": "c7bef20a",
   "metadata": {},
   "source": [
    "### Suppor Vector Models"
   ]
  },
  {
   "cell_type": "markdown",
   "id": "a0237b51",
   "metadata": {},
   "source": [
    "#### Linear SVM"
   ]
  },
  {
   "cell_type": "code",
   "execution_count": 15,
   "id": "fd9c0b0b",
   "metadata": {},
   "outputs": [
    {
     "data": {
      "text/plain": [
       "SVC(kernel='linear', random_state=0)"
      ]
     },
     "execution_count": 15,
     "metadata": {},
     "output_type": "execute_result"
    }
   ],
   "source": [
    "classifier = SVC(kernel='linear', random_state=0)\n",
    "classifier.fit(X_train_scaled, y_train)"
   ]
  },
  {
   "cell_type": "code",
   "execution_count": 16,
   "id": "a6d6a197",
   "metadata": {},
   "outputs": [
    {
     "data": {
      "text/html": [
       "<div>\n",
       "<style scoped>\n",
       "    .dataframe tbody tr th:only-of-type {\n",
       "        vertical-align: middle;\n",
       "    }\n",
       "\n",
       "    .dataframe tbody tr th {\n",
       "        vertical-align: top;\n",
       "    }\n",
       "\n",
       "    .dataframe thead th {\n",
       "        text-align: right;\n",
       "    }\n",
       "</style>\n",
       "<table border=\"1\" class=\"dataframe\">\n",
       "  <thead>\n",
       "    <tr style=\"text-align: right;\">\n",
       "      <th></th>\n",
       "      <th>Predicted Under</th>\n",
       "      <th>Predicted Over</th>\n",
       "    </tr>\n",
       "  </thead>\n",
       "  <tbody>\n",
       "    <tr>\n",
       "      <th>Actual Under</th>\n",
       "      <td>445</td>\n",
       "      <td>313</td>\n",
       "    </tr>\n",
       "    <tr>\n",
       "      <th>Actual Over</th>\n",
       "      <td>320</td>\n",
       "      <td>415</td>\n",
       "    </tr>\n",
       "  </tbody>\n",
       "</table>\n",
       "</div>"
      ],
      "text/plain": [
       "              Predicted Under  Predicted Over\n",
       "Actual Under              445             313\n",
       "Actual Over               320             415"
      ]
     },
     "metadata": {},
     "output_type": "display_data"
    },
    {
     "name": "stdout",
     "output_type": "stream",
     "text": [
      "Accuracy Score : 0.5760214333556597\n",
      "              precision    recall  f1-score   support\n",
      "\n",
      "           0       0.58      0.59      0.58       758\n",
      "           1       0.57      0.56      0.57       735\n",
      "\n",
      "    accuracy                           0.58      1493\n",
      "   macro avg       0.58      0.58      0.58      1493\n",
      "weighted avg       0.58      0.58      0.58      1493\n",
      "\n"
     ]
    }
   ],
   "source": [
    "predictions = classifier.predict(X_test_scaled)\n",
    "results = pd.DataFrame({'Prediction':predictions, 'Actual':y_test}).reset_index(drop=True)\n",
    "\n",
    "# Calculating the confusion matrix.\n",
    "cm = confusion_matrix(y_test, predictions)\n",
    "\n",
    "# Create a DataFrame from the confusion matrix.\n",
    "cm_df = pd.DataFrame(\n",
    "    cm, index=[\"Actual Under\", \"Actual Over\"], columns=[\"Predicted Under\", \"Predicted Over\"])\n",
    "linsvm_acc_score = accuracy_score(y_test, predictions)\n",
    "\n",
    "display(cm_df)\n",
    "print(f\"Accuracy Score : {linsvm_acc_score}\")\n",
    "print(classification_report(y_test, predictions))"
   ]
  },
  {
   "cell_type": "markdown",
   "id": "118f8fff",
   "metadata": {},
   "source": [
    "#### RBF SVM"
   ]
  },
  {
   "cell_type": "code",
   "execution_count": 17,
   "id": "b8a702a5",
   "metadata": {},
   "outputs": [
    {
     "data": {
      "text/plain": [
       "SVC(C=1, gamma=1, random_state=0)"
      ]
     },
     "execution_count": 17,
     "metadata": {},
     "output_type": "execute_result"
    }
   ],
   "source": [
    "classifier = SVC(gamma=1, C=1, random_state=0)\n",
    "classifier.fit(X_train_scaled, y_train)"
   ]
  },
  {
   "cell_type": "code",
   "execution_count": 18,
   "id": "53d374ca",
   "metadata": {},
   "outputs": [
    {
     "data": {
      "text/html": [
       "<div>\n",
       "<style scoped>\n",
       "    .dataframe tbody tr th:only-of-type {\n",
       "        vertical-align: middle;\n",
       "    }\n",
       "\n",
       "    .dataframe tbody tr th {\n",
       "        vertical-align: top;\n",
       "    }\n",
       "\n",
       "    .dataframe thead th {\n",
       "        text-align: right;\n",
       "    }\n",
       "</style>\n",
       "<table border=\"1\" class=\"dataframe\">\n",
       "  <thead>\n",
       "    <tr style=\"text-align: right;\">\n",
       "      <th></th>\n",
       "      <th>Predicted Under</th>\n",
       "      <th>Predicted Over</th>\n",
       "    </tr>\n",
       "  </thead>\n",
       "  <tbody>\n",
       "    <tr>\n",
       "      <th>Actual Under</th>\n",
       "      <td>750</td>\n",
       "      <td>8</td>\n",
       "    </tr>\n",
       "    <tr>\n",
       "      <th>Actual Over</th>\n",
       "      <td>724</td>\n",
       "      <td>11</td>\n",
       "    </tr>\n",
       "  </tbody>\n",
       "</table>\n",
       "</div>"
      ],
      "text/plain": [
       "              Predicted Under  Predicted Over\n",
       "Actual Under              750               8\n",
       "Actual Over               724              11"
      ]
     },
     "metadata": {},
     "output_type": "display_data"
    },
    {
     "name": "stdout",
     "output_type": "stream",
     "text": [
      "Accuracy Score : 0.5097119892833222\n",
      "              precision    recall  f1-score   support\n",
      "\n",
      "           0       0.51      0.99      0.67       758\n",
      "           1       0.58      0.01      0.03       735\n",
      "\n",
      "    accuracy                           0.51      1493\n",
      "   macro avg       0.54      0.50      0.35      1493\n",
      "weighted avg       0.54      0.51      0.36      1493\n",
      "\n"
     ]
    }
   ],
   "source": [
    "predictions = classifier.predict(X_test_scaled)\n",
    "results = pd.DataFrame({'Prediction':predictions, 'Actual':y_test}).reset_index(drop=True)\n",
    "\n",
    "# Calculating the confusion matrix.\n",
    "cm = confusion_matrix(y_test, predictions)\n",
    "\n",
    "# Create a DataFrame from the confusion matrix.\n",
    "cm_df = pd.DataFrame(\n",
    "    cm, index=[\"Actual Under\", \"Actual Over\"], columns=[\"Predicted Under\", \"Predicted Over\"])\n",
    "rbfsvm_acc_score = accuracy_score(y_test, predictions)\n",
    "\n",
    "display(cm_df)\n",
    "print(f\"Accuracy Score : {rbfsvm_acc_score}\")\n",
    "print(classification_report(y_test, predictions))"
   ]
  },
  {
   "cell_type": "markdown",
   "id": "fd279452",
   "metadata": {},
   "source": [
    "### Nu-Support Vector Classification"
   ]
  },
  {
   "cell_type": "code",
   "execution_count": 19,
   "id": "c9c6f58a",
   "metadata": {},
   "outputs": [
    {
     "data": {
      "text/plain": [
       "NuSVC(nu=0.01, random_state=0)"
      ]
     },
     "execution_count": 19,
     "metadata": {},
     "output_type": "execute_result"
    }
   ],
   "source": [
    "classifier = NuSVC(random_state=0, nu=0.01, kernel='rbf')\n",
    "classifier.fit(X_train_scaled, y_train)"
   ]
  },
  {
   "cell_type": "code",
   "execution_count": 20,
   "id": "9218e3c7",
   "metadata": {},
   "outputs": [
    {
     "data": {
      "text/html": [
       "<div>\n",
       "<style scoped>\n",
       "    .dataframe tbody tr th:only-of-type {\n",
       "        vertical-align: middle;\n",
       "    }\n",
       "\n",
       "    .dataframe tbody tr th {\n",
       "        vertical-align: top;\n",
       "    }\n",
       "\n",
       "    .dataframe thead th {\n",
       "        text-align: right;\n",
       "    }\n",
       "</style>\n",
       "<table border=\"1\" class=\"dataframe\">\n",
       "  <thead>\n",
       "    <tr style=\"text-align: right;\">\n",
       "      <th></th>\n",
       "      <th>Predicted Under</th>\n",
       "      <th>Predicted Over</th>\n",
       "    </tr>\n",
       "  </thead>\n",
       "  <tbody>\n",
       "    <tr>\n",
       "      <th>Actual Under</th>\n",
       "      <td>403</td>\n",
       "      <td>355</td>\n",
       "    </tr>\n",
       "    <tr>\n",
       "      <th>Actual Over</th>\n",
       "      <td>377</td>\n",
       "      <td>358</td>\n",
       "    </tr>\n",
       "  </tbody>\n",
       "</table>\n",
       "</div>"
      ],
      "text/plain": [
       "              Predicted Under  Predicted Over\n",
       "Actual Under              403             355\n",
       "Actual Over               377             358"
      ]
     },
     "metadata": {},
     "output_type": "display_data"
    },
    {
     "name": "stdout",
     "output_type": "stream",
     "text": [
      "Accuracy Score : 0.5097119892833222\n",
      "              precision    recall  f1-score   support\n",
      "\n",
      "           0       0.52      0.53      0.52       758\n",
      "           1       0.50      0.49      0.49       735\n",
      "\n",
      "    accuracy                           0.51      1493\n",
      "   macro avg       0.51      0.51      0.51      1493\n",
      "weighted avg       0.51      0.51      0.51      1493\n",
      "\n"
     ]
    }
   ],
   "source": [
    "predictions = classifier.predict(X_test_scaled)\n",
    "results = pd.DataFrame({'Prediction':predictions, 'Actual':y_test}).reset_index(drop=True)\n",
    "\n",
    "cm = confusion_matrix(y_test, predictions)\n",
    "cm_df = pd.DataFrame(\n",
    "    cm, index=[\"Actual Under\", \"Actual Over\"], columns=[\"Predicted Under\", \"Predicted Over\"])\n",
    "nusvc_acc_score = accuracy_score(y_test, predictions)\n",
    "\n",
    "display(cm_df)\n",
    "print(f\"Accuracy Score : {nusvc_acc_score}\")\n",
    "print(classification_report(y_test, predictions))"
   ]
  },
  {
   "cell_type": "markdown",
   "id": "af18d584",
   "metadata": {},
   "source": [
    "### Decision Tree"
   ]
  },
  {
   "cell_type": "code",
   "execution_count": 21,
   "id": "ed67526d",
   "metadata": {},
   "outputs": [],
   "source": [
    "classifier = tree.DecisionTreeClassifier(random_state=0)\n",
    "classifier = classifier.fit(X_train_scaled, y_train)"
   ]
  },
  {
   "cell_type": "code",
   "execution_count": 22,
   "id": "2f89fa06",
   "metadata": {},
   "outputs": [
    {
     "data": {
      "text/html": [
       "<div>\n",
       "<style scoped>\n",
       "    .dataframe tbody tr th:only-of-type {\n",
       "        vertical-align: middle;\n",
       "    }\n",
       "\n",
       "    .dataframe tbody tr th {\n",
       "        vertical-align: top;\n",
       "    }\n",
       "\n",
       "    .dataframe thead th {\n",
       "        text-align: right;\n",
       "    }\n",
       "</style>\n",
       "<table border=\"1\" class=\"dataframe\">\n",
       "  <thead>\n",
       "    <tr style=\"text-align: right;\">\n",
       "      <th></th>\n",
       "      <th>Predicted Under</th>\n",
       "      <th>Predicted Over</th>\n",
       "    </tr>\n",
       "  </thead>\n",
       "  <tbody>\n",
       "    <tr>\n",
       "      <th>Actual Under</th>\n",
       "      <td>399</td>\n",
       "      <td>359</td>\n",
       "    </tr>\n",
       "    <tr>\n",
       "      <th>Actual Over</th>\n",
       "      <td>382</td>\n",
       "      <td>353</td>\n",
       "    </tr>\n",
       "  </tbody>\n",
       "</table>\n",
       "</div>"
      ],
      "text/plain": [
       "              Predicted Under  Predicted Over\n",
       "Actual Under              399             359\n",
       "Actual Over               382             353"
      ]
     },
     "metadata": {},
     "output_type": "display_data"
    },
    {
     "name": "stdout",
     "output_type": "stream",
     "text": [
      "Accuracy Score : 0.5036838580040187\n",
      "              precision    recall  f1-score   support\n",
      "\n",
      "           0       0.51      0.53      0.52       758\n",
      "           1       0.50      0.48      0.49       735\n",
      "\n",
      "    accuracy                           0.50      1493\n",
      "   macro avg       0.50      0.50      0.50      1493\n",
      "weighted avg       0.50      0.50      0.50      1493\n",
      "\n"
     ]
    }
   ],
   "source": [
    "predictions = classifier.predict(X_test_scaled)\n",
    "results = pd.DataFrame({'Prediction':predictions, 'Actual':y_test}).reset_index(drop=True)\n",
    "\n",
    "# Calculating the confusion matrix.\n",
    "cm = confusion_matrix(y_test, predictions)\n",
    "\n",
    "# Create a DataFrame from the confusion matrix.\n",
    "cm_df = pd.DataFrame(\n",
    "    cm, index=[\"Actual Under\", \"Actual Over\"], columns=[\"Predicted Under\", \"Predicted Over\"])\n",
    "decision_tree_acc_score = accuracy_score(y_test, predictions)\n",
    "\n",
    "display(cm_df)\n",
    "print(f\"Accuracy Score : {decision_tree_acc_score}\")\n",
    "print(classification_report(y_test, predictions))"
   ]
  },
  {
   "cell_type": "markdown",
   "id": "8463d68a",
   "metadata": {},
   "source": [
    "### Random Forest Classifier"
   ]
  },
  {
   "cell_type": "code",
   "execution_count": 23,
   "id": "e3821906",
   "metadata": {},
   "outputs": [],
   "source": [
    "rf_model = RandomForestClassifier(n_estimators=8, random_state=0)\n",
    "rf_model = rf_model.fit(X_train_scaled, y_train)"
   ]
  },
  {
   "cell_type": "code",
   "execution_count": 24,
   "id": "76912074",
   "metadata": {},
   "outputs": [
    {
     "data": {
      "text/html": [
       "<div>\n",
       "<style scoped>\n",
       "    .dataframe tbody tr th:only-of-type {\n",
       "        vertical-align: middle;\n",
       "    }\n",
       "\n",
       "    .dataframe tbody tr th {\n",
       "        vertical-align: top;\n",
       "    }\n",
       "\n",
       "    .dataframe thead th {\n",
       "        text-align: right;\n",
       "    }\n",
       "</style>\n",
       "<table border=\"1\" class=\"dataframe\">\n",
       "  <thead>\n",
       "    <tr style=\"text-align: right;\">\n",
       "      <th></th>\n",
       "      <th>Predicted Under</th>\n",
       "      <th>Predicted Over</th>\n",
       "    </tr>\n",
       "  </thead>\n",
       "  <tbody>\n",
       "    <tr>\n",
       "      <th>Actual Under</th>\n",
       "      <td>399</td>\n",
       "      <td>359</td>\n",
       "    </tr>\n",
       "    <tr>\n",
       "      <th>Actual Over</th>\n",
       "      <td>382</td>\n",
       "      <td>353</td>\n",
       "    </tr>\n",
       "  </tbody>\n",
       "</table>\n",
       "</div>"
      ],
      "text/plain": [
       "              Predicted Under  Predicted Over\n",
       "Actual Under              399             359\n",
       "Actual Over               382             353"
      ]
     },
     "metadata": {},
     "output_type": "display_data"
    },
    {
     "name": "stdout",
     "output_type": "stream",
     "text": [
      "Accuracy Score : 0.5036838580040187\n",
      "              precision    recall  f1-score   support\n",
      "\n",
      "           0       0.51      0.53      0.52       758\n",
      "           1       0.50      0.48      0.49       735\n",
      "\n",
      "    accuracy                           0.50      1493\n",
      "   macro avg       0.50      0.50      0.50      1493\n",
      "weighted avg       0.50      0.50      0.50      1493\n",
      "\n"
     ]
    }
   ],
   "source": [
    "predictions = classifier.predict(X_test_scaled)\n",
    "results = pd.DataFrame({'Prediction':predictions, 'Actual':y_test}).reset_index(drop=True)\n",
    "\n",
    "# Calculating the confusion matrix.\n",
    "cm = confusion_matrix(y_test, predictions)\n",
    "\n",
    "# Create a DataFrame from the confusion matrix.\n",
    "cm_df = pd.DataFrame(\n",
    "    cm, index=[\"Actual Under\", \"Actual Over\"], columns=[\"Predicted Under\", \"Predicted Over\"])\n",
    "randforest_acc_score = accuracy_score(y_test, predictions)\n",
    "\n",
    "display(cm_df)\n",
    "print(f\"Accuracy Score : {randforest_acc_score}\")\n",
    "print(classification_report(y_test, predictions))"
   ]
  },
  {
   "cell_type": "code",
   "execution_count": 25,
   "id": "63db9a31",
   "metadata": {},
   "outputs": [
    {
     "data": {
      "text/plain": [
       "[(0.032166395115313266, 'home_special_dvoa'),\n",
       " (0.03156176328170879, 'composite_pace_difference'),\n",
       " (0.030986627902636853, 'over_under_line'),\n",
       " (0.030510809086676624, 'away_sec_play_neutral'),\n",
       " (0.028416456414472612, 'home_sec_play_total'),\n",
       " (0.028232787772125106, 'dvoa_weighted_difference'),\n",
       " (0.02797686808538024, 'dvoa_away_offense_matchup'),\n",
       " (0.027900304296964978, 'dvoa_defense_cumulative'),\n",
       " (0.027518498787741194, 'dvoa_offefdiff_difference'),\n",
       " (0.027496131578784586, 'dvoa_home_offense_matchup'),\n",
       " (0.02741371550387582, 'away_sec_play_composite'),\n",
       " (0.027298256949896443, 'composite_pace_average'),\n",
       " (0.0271292744700745, 'dvoa_total_difference'),\n",
       " (0.026988093879401442, 'away_off_def_difference'),\n",
       " (0.02661740082771657, 'away_special_dvoa'),\n",
       " (0.026572237844921968, 'offense_matchup_difference'),\n",
       " (0.026465798098365433, 'away_sec_play_total'),\n",
       " (0.026340362900978513, 'dvoa_defense_difference'),\n",
       " (0.025547884685538067, 'dvoa_special_cumulative'),\n",
       " (0.025159103761070667, 'dvoa_special_difference'),\n",
       " (0.024821578256103236, 'dvoa_offense_cumulative'),\n",
       " (0.02422488615943597, 'home_total_dvoa'),\n",
       " (0.02415122067255249, 'away_weighted_dvoa'),\n",
       " (0.02414735549739186, 'offense_matchup_cumulative'),\n",
       " (0.023753829288184057, 'spread_favorite'),\n",
       " (0.023484061521263113, 'dvoa_offense_difference'),\n",
       " (0.023036511723877138, 'home_weighted_dvoa'),\n",
       " (0.02268675020240478, 'home_defense_dvoa'),\n",
       " (0.022659842978326603, 'home_sec_play_composite'),\n",
       " (0.022308631071728095, 'dvoa_offdefdiff_cumulative'),\n",
       " (0.022267710853550053, 'home_sec_play_neutral'),\n",
       " (0.02205781289370863, 'away_offense_dvoa'),\n",
       " (0.021619453117529556, 'home_offense_dvoa'),\n",
       " (0.021172820702446082, 'dvoa_weighted_cumulative'),\n",
       " (0.0208981307212854, 'schedule_week'),\n",
       " (0.0207430780088393, 'schedule_season'),\n",
       " (0.020665544584735865, 'home_off_def_difference'),\n",
       " (0.02018671926615658, 'away_defense_dvoa'),\n",
       " (0.018501809409733887, 'dvoa_total_cumulative'),\n",
       " (0.018313481827103573, 'away_total_dvoa')]"
      ]
     },
     "execution_count": 25,
     "metadata": {},
     "output_type": "execute_result"
    }
   ],
   "source": [
    "# showing feature importances\n",
    "importances = rf_model.feature_importances_\n",
    "sorted(zip(rf_model.feature_importances_, X.columns), reverse=True)"
   ]
  },
  {
   "cell_type": "markdown",
   "id": "2a0c739b",
   "metadata": {},
   "source": [
    "### Gradient Boosting Classifier"
   ]
  },
  {
   "cell_type": "code",
   "execution_count": 26,
   "id": "5519fcd1",
   "metadata": {},
   "outputs": [
    {
     "data": {
      "text/plain": [
       "GradientBoostingClassifier(max_features=2, n_estimators=55, random_state=0)"
      ]
     },
     "execution_count": 26,
     "metadata": {},
     "output_type": "execute_result"
    }
   ],
   "source": [
    "classifier = GradientBoostingClassifier(n_estimators=55,\n",
    "   learning_rate=0.1, max_features=2, max_depth=3, random_state=0)\n",
    "classifier.fit(X_train_scaled, y_train)"
   ]
  },
  {
   "cell_type": "code",
   "execution_count": 27,
   "id": "5074c406",
   "metadata": {},
   "outputs": [
    {
     "data": {
      "text/html": [
       "<div>\n",
       "<style scoped>\n",
       "    .dataframe tbody tr th:only-of-type {\n",
       "        vertical-align: middle;\n",
       "    }\n",
       "\n",
       "    .dataframe tbody tr th {\n",
       "        vertical-align: top;\n",
       "    }\n",
       "\n",
       "    .dataframe thead th {\n",
       "        text-align: right;\n",
       "    }\n",
       "</style>\n",
       "<table border=\"1\" class=\"dataframe\">\n",
       "  <thead>\n",
       "    <tr style=\"text-align: right;\">\n",
       "      <th></th>\n",
       "      <th>Predicted Under</th>\n",
       "      <th>Predicted Over</th>\n",
       "    </tr>\n",
       "  </thead>\n",
       "  <tbody>\n",
       "    <tr>\n",
       "      <th>Actual Under</th>\n",
       "      <td>454</td>\n",
       "      <td>304</td>\n",
       "    </tr>\n",
       "    <tr>\n",
       "      <th>Actual Over</th>\n",
       "      <td>356</td>\n",
       "      <td>379</td>\n",
       "    </tr>\n",
       "  </tbody>\n",
       "</table>\n",
       "</div>"
      ],
      "text/plain": [
       "              Predicted Under  Predicted Over\n",
       "Actual Under              454             304\n",
       "Actual Over               356             379"
      ]
     },
     "metadata": {},
     "output_type": "display_data"
    },
    {
     "name": "stdout",
     "output_type": "stream",
     "text": [
      "Accuracy Score : 0.5579370395177495\n",
      "              precision    recall  f1-score   support\n",
      "\n",
      "           0       0.56      0.60      0.58       758\n",
      "           1       0.55      0.52      0.53       735\n",
      "\n",
      "    accuracy                           0.56      1493\n",
      "   macro avg       0.56      0.56      0.56      1493\n",
      "weighted avg       0.56      0.56      0.56      1493\n",
      "\n"
     ]
    }
   ],
   "source": [
    "predictions = classifier.predict(X_test_scaled)\n",
    "results = pd.DataFrame({'Prediction':predictions, 'Actual':y_test}).reset_index(drop=True)\n",
    "\n",
    "# Calculating the confusion matrix.\n",
    "cm = confusion_matrix(y_test, predictions)\n",
    "\n",
    "# Create a DataFrame from the confusion matrix.\n",
    "cm_df = pd.DataFrame(\n",
    "    cm, index=[\"Actual Under\", \"Actual Over\"], columns=[\"Predicted Under\", \"Predicted Over\"])\n",
    "gradboost_acc_score = accuracy_score(y_test, predictions)\n",
    "\n",
    "display(cm_df)\n",
    "print(f\"Accuracy Score : {gradboost_acc_score}\")\n",
    "print(classification_report(y_test, predictions))"
   ]
  },
  {
   "cell_type": "markdown",
   "id": "42782c78",
   "metadata": {},
   "source": [
    "### AdaBoost Classifier"
   ]
  },
  {
   "cell_type": "code",
   "execution_count": 28,
   "id": "e55d40b8",
   "metadata": {},
   "outputs": [
    {
     "data": {
      "text/plain": [
       "AdaBoostClassifier(learning_rate=0.01, n_estimators=185, random_state=0)"
      ]
     },
     "execution_count": 28,
     "metadata": {},
     "output_type": "execute_result"
    }
   ],
   "source": [
    "classifier = AdaBoostClassifier(n_estimators = 185,\n",
    "                                learning_rate = .01,\n",
    "                                random_state = 0)\n",
    "classifier.fit(X_train_scaled, y_train)"
   ]
  },
  {
   "cell_type": "code",
   "execution_count": 29,
   "id": "9e5aa839",
   "metadata": {},
   "outputs": [
    {
     "data": {
      "text/html": [
       "<div>\n",
       "<style scoped>\n",
       "    .dataframe tbody tr th:only-of-type {\n",
       "        vertical-align: middle;\n",
       "    }\n",
       "\n",
       "    .dataframe tbody tr th {\n",
       "        vertical-align: top;\n",
       "    }\n",
       "\n",
       "    .dataframe thead th {\n",
       "        text-align: right;\n",
       "    }\n",
       "</style>\n",
       "<table border=\"1\" class=\"dataframe\">\n",
       "  <thead>\n",
       "    <tr style=\"text-align: right;\">\n",
       "      <th></th>\n",
       "      <th>Predicted Under</th>\n",
       "      <th>Predicted Over</th>\n",
       "    </tr>\n",
       "  </thead>\n",
       "  <tbody>\n",
       "    <tr>\n",
       "      <th>Actual Under</th>\n",
       "      <td>504</td>\n",
       "      <td>254</td>\n",
       "    </tr>\n",
       "    <tr>\n",
       "      <th>Actual Over</th>\n",
       "      <td>393</td>\n",
       "      <td>342</td>\n",
       "    </tr>\n",
       "  </tbody>\n",
       "</table>\n",
       "</div>"
      ],
      "text/plain": [
       "              Predicted Under  Predicted Over\n",
       "Actual Under              504             254\n",
       "Actual Over               393             342"
      ]
     },
     "metadata": {},
     "output_type": "display_data"
    },
    {
     "name": "stdout",
     "output_type": "stream",
     "text": [
      "Accuracy Score : 0.5666443402545212\n",
      "              precision    recall  f1-score   support\n",
      "\n",
      "           0       0.56      0.66      0.61       758\n",
      "           1       0.57      0.47      0.51       735\n",
      "\n",
      "    accuracy                           0.57      1493\n",
      "   macro avg       0.57      0.57      0.56      1493\n",
      "weighted avg       0.57      0.57      0.56      1493\n",
      "\n"
     ]
    }
   ],
   "source": [
    "predictions = classifier.predict(X_test_scaled)\n",
    "results = pd.DataFrame({'Prediction':predictions, 'Actual':y_test}).reset_index(drop=True)\n",
    "\n",
    "# Calculating the confusion matrix.\n",
    "cm = confusion_matrix(y_test, predictions)\n",
    "\n",
    "# Create a DataFrame from the confusion matrix.\n",
    "cm_df = pd.DataFrame(\n",
    "    cm, index=[\"Actual Under\", \"Actual Over\"], columns=[\"Predicted Under\", \"Predicted Over\"])\n",
    "adaboost_acc_score = accuracy_score(y_test, predictions)\n",
    "\n",
    "display(cm_df)\n",
    "print(f\"Accuracy Score : {adaboost_acc_score}\")\n",
    "print(classification_report(y_test, predictions))"
   ]
  },
  {
   "cell_type": "markdown",
   "id": "f0265167",
   "metadata": {},
   "source": [
    "### Bagging Classifier"
   ]
  },
  {
   "cell_type": "code",
   "execution_count": 30,
   "id": "ada48207",
   "metadata": {},
   "outputs": [
    {
     "data": {
      "text/plain": [
       "BaggingClassifier(max_samples=100, n_estimators=1000, random_state=0)"
      ]
     },
     "execution_count": 30,
     "metadata": {},
     "output_type": "execute_result"
    }
   ],
   "source": [
    "classifier = BaggingClassifier(n_estimators = 1000,\n",
    "                               max_samples = 100, \n",
    "                               random_state = 0)\n",
    "classifier.fit(X_train_scaled, y_train)"
   ]
  },
  {
   "cell_type": "code",
   "execution_count": 31,
   "id": "a0a8e6a2",
   "metadata": {},
   "outputs": [
    {
     "data": {
      "text/html": [
       "<div>\n",
       "<style scoped>\n",
       "    .dataframe tbody tr th:only-of-type {\n",
       "        vertical-align: middle;\n",
       "    }\n",
       "\n",
       "    .dataframe tbody tr th {\n",
       "        vertical-align: top;\n",
       "    }\n",
       "\n",
       "    .dataframe thead th {\n",
       "        text-align: right;\n",
       "    }\n",
       "</style>\n",
       "<table border=\"1\" class=\"dataframe\">\n",
       "  <thead>\n",
       "    <tr style=\"text-align: right;\">\n",
       "      <th></th>\n",
       "      <th>Predicted Under</th>\n",
       "      <th>Predicted Over</th>\n",
       "    </tr>\n",
       "  </thead>\n",
       "  <tbody>\n",
       "    <tr>\n",
       "      <th>Actual Under</th>\n",
       "      <td>451</td>\n",
       "      <td>307</td>\n",
       "    </tr>\n",
       "    <tr>\n",
       "      <th>Actual Over</th>\n",
       "      <td>363</td>\n",
       "      <td>372</td>\n",
       "    </tr>\n",
       "  </tbody>\n",
       "</table>\n",
       "</div>"
      ],
      "text/plain": [
       "              Predicted Under  Predicted Over\n",
       "Actual Under              451             307\n",
       "Actual Over               363             372"
      ]
     },
     "metadata": {},
     "output_type": "display_data"
    },
    {
     "name": "stdout",
     "output_type": "stream",
     "text": [
      "Accuracy Score : 0.551239115874079\n",
      "              precision    recall  f1-score   support\n",
      "\n",
      "           0       0.55      0.59      0.57       758\n",
      "           1       0.55      0.51      0.53       735\n",
      "\n",
      "    accuracy                           0.55      1493\n",
      "   macro avg       0.55      0.55      0.55      1493\n",
      "weighted avg       0.55      0.55      0.55      1493\n",
      "\n"
     ]
    }
   ],
   "source": [
    "predictions = classifier.predict(X_test_scaled)\n",
    "results = pd.DataFrame({'Prediction':predictions, 'Actual':y_test}).reset_index(drop=True)\n",
    "\n",
    "# Calculating the confusion matrix.\n",
    "cm = confusion_matrix(y_test, predictions)\n",
    "\n",
    "# Create a DataFrame from the confusion matrix.\n",
    "cm_df = pd.DataFrame(\n",
    "    cm, index=[\"Actual Under\", \"Actual Over\"], columns=[\"Predicted Under\", \"Predicted Over\"])\n",
    "bag_acc_score = accuracy_score(y_test, predictions)\n",
    "\n",
    "display(cm_df)\n",
    "print(f\"Accuracy Score : {bag_acc_score}\")\n",
    "print(classification_report(y_test, predictions))"
   ]
  },
  {
   "cell_type": "markdown",
   "id": "16b0100a",
   "metadata": {},
   "source": [
    "### Extra Trees Classifier"
   ]
  },
  {
   "cell_type": "code",
   "execution_count": 32,
   "id": "9e543eed",
   "metadata": {},
   "outputs": [
    {
     "data": {
      "text/plain": [
       "ExtraTreesClassifier(criterion='entropy', max_depth=4, n_estimators=200,\n",
       "                     random_state=0)"
      ]
     },
     "execution_count": 32,
     "metadata": {},
     "output_type": "execute_result"
    }
   ],
   "source": [
    "classifier = ExtraTreesClassifier(n_estimators=200,\n",
    "                                 criterion='entropy',\n",
    "                                 max_depth=4,\n",
    "                                 random_state=0)\n",
    "classifier.fit(X_train_scaled, y_train)"
   ]
  },
  {
   "cell_type": "code",
   "execution_count": 33,
   "id": "c7f598c1",
   "metadata": {},
   "outputs": [
    {
     "data": {
      "text/html": [
       "<div>\n",
       "<style scoped>\n",
       "    .dataframe tbody tr th:only-of-type {\n",
       "        vertical-align: middle;\n",
       "    }\n",
       "\n",
       "    .dataframe tbody tr th {\n",
       "        vertical-align: top;\n",
       "    }\n",
       "\n",
       "    .dataframe thead th {\n",
       "        text-align: right;\n",
       "    }\n",
       "</style>\n",
       "<table border=\"1\" class=\"dataframe\">\n",
       "  <thead>\n",
       "    <tr style=\"text-align: right;\">\n",
       "      <th></th>\n",
       "      <th>Predicted Under</th>\n",
       "      <th>Predicted Over</th>\n",
       "    </tr>\n",
       "  </thead>\n",
       "  <tbody>\n",
       "    <tr>\n",
       "      <th>Actual Under</th>\n",
       "      <td>528</td>\n",
       "      <td>230</td>\n",
       "    </tr>\n",
       "    <tr>\n",
       "      <th>Actual Over</th>\n",
       "      <td>419</td>\n",
       "      <td>316</td>\n",
       "    </tr>\n",
       "  </tbody>\n",
       "</table>\n",
       "</div>"
      ],
      "text/plain": [
       "              Predicted Under  Predicted Over\n",
       "Actual Under              528             230\n",
       "Actual Over               419             316"
      ]
     },
     "metadata": {},
     "output_type": "display_data"
    },
    {
     "name": "stdout",
     "output_type": "stream",
     "text": [
      "Accuracy Score : 0.565304755525787\n",
      "              precision    recall  f1-score   support\n",
      "\n",
      "           0       0.56      0.70      0.62       758\n",
      "           1       0.58      0.43      0.49       735\n",
      "\n",
      "    accuracy                           0.57      1493\n",
      "   macro avg       0.57      0.56      0.56      1493\n",
      "weighted avg       0.57      0.57      0.56      1493\n",
      "\n"
     ]
    }
   ],
   "source": [
    "predictions = classifier.predict(X_test_scaled)\n",
    "results = pd.DataFrame({'Prediction':predictions, 'Actual':y_test}).reset_index(drop=True)\n",
    "\n",
    "# Calculating the confusion matrix.\n",
    "cm = confusion_matrix(y_test, predictions)\n",
    "\n",
    "# Create a DataFrame from the confusion matrix.\n",
    "cm_df = pd.DataFrame(\n",
    "    cm, index=[\"Actual Under\", \"Actual Over\"], columns=[\"Predicted Under\", \"Predicted Over\"])\n",
    "extratrees_acc_score = accuracy_score(y_test, predictions)\n",
    "\n",
    "display(cm_df)\n",
    "print(f\"Accuracy Score : {extratrees_acc_score}\")\n",
    "print(classification_report(y_test, predictions))"
   ]
  },
  {
   "cell_type": "markdown",
   "id": "eee98370",
   "metadata": {},
   "source": [
    "### Histogram Gradient Boosting Classifier"
   ]
  },
  {
   "cell_type": "code",
   "execution_count": 34,
   "id": "d4f83227",
   "metadata": {},
   "outputs": [
    {
     "data": {
      "text/plain": [
       "HistGradientBoostingClassifier(learning_rate=0.01, max_iter=60, random_state=0)"
      ]
     },
     "execution_count": 34,
     "metadata": {},
     "output_type": "execute_result"
    }
   ],
   "source": [
    "classifier = HistGradientBoostingClassifier(loss='auto',\n",
    "                                           learning_rate=0.01,\n",
    "                                           max_iter=60,\n",
    "                                           random_state=0)\n",
    "classifier.fit(X_train_scaled, y_train)"
   ]
  },
  {
   "cell_type": "code",
   "execution_count": 35,
   "id": "19910967",
   "metadata": {},
   "outputs": [
    {
     "data": {
      "text/html": [
       "<div>\n",
       "<style scoped>\n",
       "    .dataframe tbody tr th:only-of-type {\n",
       "        vertical-align: middle;\n",
       "    }\n",
       "\n",
       "    .dataframe tbody tr th {\n",
       "        vertical-align: top;\n",
       "    }\n",
       "\n",
       "    .dataframe thead th {\n",
       "        text-align: right;\n",
       "    }\n",
       "</style>\n",
       "<table border=\"1\" class=\"dataframe\">\n",
       "  <thead>\n",
       "    <tr style=\"text-align: right;\">\n",
       "      <th></th>\n",
       "      <th>Predicted Under</th>\n",
       "      <th>Predicted Over</th>\n",
       "    </tr>\n",
       "  </thead>\n",
       "  <tbody>\n",
       "    <tr>\n",
       "      <th>Actual Under</th>\n",
       "      <td>474</td>\n",
       "      <td>284</td>\n",
       "    </tr>\n",
       "    <tr>\n",
       "      <th>Actual Over</th>\n",
       "      <td>398</td>\n",
       "      <td>337</td>\n",
       "    </tr>\n",
       "  </tbody>\n",
       "</table>\n",
       "</div>"
      ],
      "text/plain": [
       "              Predicted Under  Predicted Over\n",
       "Actual Under              474             284\n",
       "Actual Over               398             337"
      ]
     },
     "metadata": {},
     "output_type": "display_data"
    },
    {
     "name": "stdout",
     "output_type": "stream",
     "text": [
      "Accuracy Score : 0.5432016075016745\n",
      "              precision    recall  f1-score   support\n",
      "\n",
      "           0       0.54      0.63      0.58       758\n",
      "           1       0.54      0.46      0.50       735\n",
      "\n",
      "    accuracy                           0.54      1493\n",
      "   macro avg       0.54      0.54      0.54      1493\n",
      "weighted avg       0.54      0.54      0.54      1493\n",
      "\n"
     ]
    }
   ],
   "source": [
    "predictions = classifier.predict(X_test_scaled)\n",
    "results = pd.DataFrame({'Prediction':predictions, 'Actual':y_test}).reset_index(drop=True)\n",
    "\n",
    "cm = confusion_matrix(y_test, predictions)\n",
    "cm_df = pd.DataFrame(\n",
    "    cm, index=[\"Actual Under\", \"Actual Over\"], columns=[\"Predicted Under\", \"Predicted Over\"])\n",
    "histgrad_acc_score = accuracy_score(y_test, predictions)\n",
    "\n",
    "display(cm_df)\n",
    "print(f\"Accuracy Score : {histgrad_acc_score}\")\n",
    "print(classification_report(y_test, predictions))"
   ]
  },
  {
   "cell_type": "markdown",
   "id": "92a38360",
   "metadata": {},
   "source": [
    "### Gaussian Naive Bayes Classifier"
   ]
  },
  {
   "cell_type": "code",
   "execution_count": 36,
   "id": "6e2c85d6",
   "metadata": {},
   "outputs": [
    {
     "data": {
      "text/plain": [
       "GaussianNB()"
      ]
     },
     "execution_count": 36,
     "metadata": {},
     "output_type": "execute_result"
    }
   ],
   "source": [
    "classifier = GaussianNB() # no random_state parameter\n",
    "classifier.fit(X_train_scaled, y_train)"
   ]
  },
  {
   "cell_type": "code",
   "execution_count": 37,
   "id": "ec3b5ad9",
   "metadata": {},
   "outputs": [
    {
     "data": {
      "text/html": [
       "<div>\n",
       "<style scoped>\n",
       "    .dataframe tbody tr th:only-of-type {\n",
       "        vertical-align: middle;\n",
       "    }\n",
       "\n",
       "    .dataframe tbody tr th {\n",
       "        vertical-align: top;\n",
       "    }\n",
       "\n",
       "    .dataframe thead th {\n",
       "        text-align: right;\n",
       "    }\n",
       "</style>\n",
       "<table border=\"1\" class=\"dataframe\">\n",
       "  <thead>\n",
       "    <tr style=\"text-align: right;\">\n",
       "      <th></th>\n",
       "      <th>Predicted Under</th>\n",
       "      <th>Predicted Over</th>\n",
       "    </tr>\n",
       "  </thead>\n",
       "  <tbody>\n",
       "    <tr>\n",
       "      <th>Actual Under</th>\n",
       "      <td>448</td>\n",
       "      <td>310</td>\n",
       "    </tr>\n",
       "    <tr>\n",
       "      <th>Actual Over</th>\n",
       "      <td>362</td>\n",
       "      <td>373</td>\n",
       "    </tr>\n",
       "  </tbody>\n",
       "</table>\n",
       "</div>"
      ],
      "text/plain": [
       "              Predicted Under  Predicted Over\n",
       "Actual Under              448             310\n",
       "Actual Over               362             373"
      ]
     },
     "metadata": {},
     "output_type": "display_data"
    },
    {
     "name": "stdout",
     "output_type": "stream",
     "text": [
      "Accuracy Score : 0.549899531145345\n",
      "              precision    recall  f1-score   support\n",
      "\n",
      "           0       0.55      0.59      0.57       758\n",
      "           1       0.55      0.51      0.53       735\n",
      "\n",
      "    accuracy                           0.55      1493\n",
      "   macro avg       0.55      0.55      0.55      1493\n",
      "weighted avg       0.55      0.55      0.55      1493\n",
      "\n"
     ]
    }
   ],
   "source": [
    "predictions = classifier.predict(X_test_scaled)\n",
    "results = pd.DataFrame({'Prediction':predictions, 'Actual':y_test}).reset_index(drop=True)\n",
    "\n",
    "# Calculating the confusion matrix.\n",
    "cm = confusion_matrix(y_test, predictions)\n",
    "\n",
    "# Create a DataFrame from the confusion matrix.\n",
    "cm_df = pd.DataFrame(\n",
    "    cm, index=[\"Actual Under\", \"Actual Over\"], columns=[\"Predicted Under\", \"Predicted Over\"])\n",
    "nbayes_acc_score = accuracy_score(y_test, predictions)\n",
    "\n",
    "display(cm_df)\n",
    "print(f\"Accuracy Score : {nbayes_acc_score}\")\n",
    "print(classification_report(y_test, predictions))"
   ]
  },
  {
   "cell_type": "markdown",
   "id": "75a5dd9b",
   "metadata": {},
   "source": [
    "### Linear Discriminant Analysis Classifier"
   ]
  },
  {
   "cell_type": "code",
   "execution_count": 38,
   "id": "84f854ad",
   "metadata": {},
   "outputs": [
    {
     "data": {
      "text/plain": [
       "LinearDiscriminantAnalysis()"
      ]
     },
     "execution_count": 38,
     "metadata": {},
     "output_type": "execute_result"
    }
   ],
   "source": [
    "classifier = LinearDiscriminantAnalysis(solver='svd') # no random_state parameter\n",
    "classifier.fit(X_train_scaled, y_train)"
   ]
  },
  {
   "cell_type": "code",
   "execution_count": 39,
   "id": "a6195bfd",
   "metadata": {},
   "outputs": [
    {
     "data": {
      "text/html": [
       "<div>\n",
       "<style scoped>\n",
       "    .dataframe tbody tr th:only-of-type {\n",
       "        vertical-align: middle;\n",
       "    }\n",
       "\n",
       "    .dataframe tbody tr th {\n",
       "        vertical-align: top;\n",
       "    }\n",
       "\n",
       "    .dataframe thead th {\n",
       "        text-align: right;\n",
       "    }\n",
       "</style>\n",
       "<table border=\"1\" class=\"dataframe\">\n",
       "  <thead>\n",
       "    <tr style=\"text-align: right;\">\n",
       "      <th></th>\n",
       "      <th>Predicted Under</th>\n",
       "      <th>Predicted Over</th>\n",
       "    </tr>\n",
       "  </thead>\n",
       "  <tbody>\n",
       "    <tr>\n",
       "      <th>Actual Under</th>\n",
       "      <td>446</td>\n",
       "      <td>312</td>\n",
       "    </tr>\n",
       "    <tr>\n",
       "      <th>Actual Over</th>\n",
       "      <td>342</td>\n",
       "      <td>393</td>\n",
       "    </tr>\n",
       "  </tbody>\n",
       "</table>\n",
       "</div>"
      ],
      "text/plain": [
       "              Predicted Under  Predicted Over\n",
       "Actual Under              446             312\n",
       "Actual Over               342             393"
      ]
     },
     "metadata": {},
     "output_type": "display_data"
    },
    {
     "name": "stdout",
     "output_type": "stream",
     "text": [
      "Accuracy Score : 0.5619557937039518\n",
      "              precision    recall  f1-score   support\n",
      "\n",
      "           0       0.57      0.59      0.58       758\n",
      "           1       0.56      0.53      0.55       735\n",
      "\n",
      "    accuracy                           0.56      1493\n",
      "   macro avg       0.56      0.56      0.56      1493\n",
      "weighted avg       0.56      0.56      0.56      1493\n",
      "\n"
     ]
    }
   ],
   "source": [
    "predictions = classifier.predict(X_test_scaled)\n",
    "results = pd.DataFrame({'Prediction':predictions, 'Actual':y_test}).reset_index(drop=True)\n",
    "\n",
    "# Calculating the confusion matrix.\n",
    "cm = confusion_matrix(y_test, predictions)\n",
    "\n",
    "# Create a DataFrame from the confusion matrix.\n",
    "cm_df = pd.DataFrame(\n",
    "    cm, index=[\"Actual Under\", \"Actual Over\"], columns=[\"Predicted Under\", \"Predicted Over\"])\n",
    "lda_acc_score = accuracy_score(y_test, predictions)\n",
    "\n",
    "display(cm_df)\n",
    "print(f\"Accuracy Score : {lda_acc_score}\")\n",
    "print(classification_report(y_test, predictions))"
   ]
  },
  {
   "cell_type": "markdown",
   "id": "0b105186",
   "metadata": {},
   "source": [
    "### Quadratic Discriminant Analysis Classifier"
   ]
  },
  {
   "cell_type": "code",
   "execution_count": 40,
   "id": "af7494c7",
   "metadata": {},
   "outputs": [
    {
     "name": "stderr",
     "output_type": "stream",
     "text": [
      "C:\\Users\\david\\anaconda3\\envs\\mlenv\\lib\\site-packages\\sklearn\\discriminant_analysis.py:878: UserWarning: Variables are collinear\n",
      "  warnings.warn(\"Variables are collinear\")\n"
     ]
    },
    {
     "data": {
      "text/plain": [
       "QuadraticDiscriminantAnalysis()"
      ]
     },
     "execution_count": 40,
     "metadata": {},
     "output_type": "execute_result"
    }
   ],
   "source": [
    "classifier = QuadraticDiscriminantAnalysis() # no random_state parameter\n",
    "classifier.fit(X_train_scaled, y_train)"
   ]
  },
  {
   "cell_type": "code",
   "execution_count": 41,
   "id": "fc286b9f",
   "metadata": {},
   "outputs": [
    {
     "data": {
      "text/html": [
       "<div>\n",
       "<style scoped>\n",
       "    .dataframe tbody tr th:only-of-type {\n",
       "        vertical-align: middle;\n",
       "    }\n",
       "\n",
       "    .dataframe tbody tr th {\n",
       "        vertical-align: top;\n",
       "    }\n",
       "\n",
       "    .dataframe thead th {\n",
       "        text-align: right;\n",
       "    }\n",
       "</style>\n",
       "<table border=\"1\" class=\"dataframe\">\n",
       "  <thead>\n",
       "    <tr style=\"text-align: right;\">\n",
       "      <th></th>\n",
       "      <th>Predicted Under</th>\n",
       "      <th>Predicted Over</th>\n",
       "    </tr>\n",
       "  </thead>\n",
       "  <tbody>\n",
       "    <tr>\n",
       "      <th>Actual Under</th>\n",
       "      <td>229</td>\n",
       "      <td>529</td>\n",
       "    </tr>\n",
       "    <tr>\n",
       "      <th>Actual Over</th>\n",
       "      <td>196</td>\n",
       "      <td>539</td>\n",
       "    </tr>\n",
       "  </tbody>\n",
       "</table>\n",
       "</div>"
      ],
      "text/plain": [
       "              Predicted Under  Predicted Over\n",
       "Actual Under              229             529\n",
       "Actual Over               196             539"
      ]
     },
     "metadata": {},
     "output_type": "display_data"
    },
    {
     "name": "stdout",
     "output_type": "stream",
     "text": [
      "Accuracy Score : 0.5144005358338914\n",
      "              precision    recall  f1-score   support\n",
      "\n",
      "           0       0.54      0.30      0.39       758\n",
      "           1       0.50      0.73      0.60       735\n",
      "\n",
      "    accuracy                           0.51      1493\n",
      "   macro avg       0.52      0.52      0.49      1493\n",
      "weighted avg       0.52      0.51      0.49      1493\n",
      "\n"
     ]
    }
   ],
   "source": [
    "predictions = classifier.predict(X_test_scaled)\n",
    "results = pd.DataFrame({'Prediction':predictions, 'Actual':y_test}).reset_index(drop=True)\n",
    "\n",
    "# Calculating the confusion matrix.\n",
    "cm = confusion_matrix(y_test, predictions)\n",
    "\n",
    "# Create a DataFrame from the confusion matrix.\n",
    "cm_df = pd.DataFrame(\n",
    "    cm, index=[\"Actual Under\", \"Actual Over\"], columns=[\"Predicted Under\", \"Predicted Over\"])\n",
    "qda_acc_score = accuracy_score(y_test, predictions)\n",
    "\n",
    "display(cm_df)\n",
    "print(f\"Accuracy Score : {qda_acc_score}\")\n",
    "print(classification_report(y_test, predictions))"
   ]
  },
  {
   "cell_type": "markdown",
   "id": "1633f368",
   "metadata": {},
   "source": [
    "### Nearest Neighbor Classifier"
   ]
  },
  {
   "cell_type": "code",
   "execution_count": 42,
   "id": "cf34c96c",
   "metadata": {},
   "outputs": [
    {
     "data": {
      "text/plain": [
       "KNeighborsClassifier(n_neighbors=2)"
      ]
     },
     "execution_count": 42,
     "metadata": {},
     "output_type": "execute_result"
    }
   ],
   "source": [
    "classifier = KNeighborsClassifier(2) # no random_state parameter\n",
    "classifier.fit(X_train_scaled, y_train)"
   ]
  },
  {
   "cell_type": "code",
   "execution_count": 43,
   "id": "52962dda",
   "metadata": {},
   "outputs": [
    {
     "data": {
      "text/html": [
       "<div>\n",
       "<style scoped>\n",
       "    .dataframe tbody tr th:only-of-type {\n",
       "        vertical-align: middle;\n",
       "    }\n",
       "\n",
       "    .dataframe tbody tr th {\n",
       "        vertical-align: top;\n",
       "    }\n",
       "\n",
       "    .dataframe thead th {\n",
       "        text-align: right;\n",
       "    }\n",
       "</style>\n",
       "<table border=\"1\" class=\"dataframe\">\n",
       "  <thead>\n",
       "    <tr style=\"text-align: right;\">\n",
       "      <th></th>\n",
       "      <th>Predicted Under</th>\n",
       "      <th>Predicted Over</th>\n",
       "    </tr>\n",
       "  </thead>\n",
       "  <tbody>\n",
       "    <tr>\n",
       "      <th>Actual Under</th>\n",
       "      <td>593</td>\n",
       "      <td>165</td>\n",
       "    </tr>\n",
       "    <tr>\n",
       "      <th>Actual Over</th>\n",
       "      <td>544</td>\n",
       "      <td>191</td>\n",
       "    </tr>\n",
       "  </tbody>\n",
       "</table>\n",
       "</div>"
      ],
      "text/plain": [
       "              Predicted Under  Predicted Over\n",
       "Actual Under              593             165\n",
       "Actual Over               544             191"
      ]
     },
     "metadata": {},
     "output_type": "display_data"
    },
    {
     "name": "stdout",
     "output_type": "stream",
     "text": [
      "Accuracy Score : 0.5251172136637642\n",
      "              precision    recall  f1-score   support\n",
      "\n",
      "           0       0.52      0.78      0.63       758\n",
      "           1       0.54      0.26      0.35       735\n",
      "\n",
      "    accuracy                           0.53      1493\n",
      "   macro avg       0.53      0.52      0.49      1493\n",
      "weighted avg       0.53      0.53      0.49      1493\n",
      "\n"
     ]
    }
   ],
   "source": [
    "predictions = classifier.predict(X_test_scaled)\n",
    "results = pd.DataFrame({'Prediction':predictions, 'Actual':y_test}).reset_index(drop=True)\n",
    "\n",
    "cm = confusion_matrix(y_test, predictions)\n",
    "cm_df = pd.DataFrame(\n",
    "    cm, index=[\"Actual Under\", \"Actual Over\"], columns=[\"Predicted Under\", \"Predicted Over\"])\n",
    "nearneighboor_acc_score = accuracy_score(y_test, predictions)\n",
    "\n",
    "display(cm_df)\n",
    "print(f\"Accuracy Score : {nearneighboor_acc_score}\")\n",
    "print(classification_report(y_test, predictions))"
   ]
  },
  {
   "cell_type": "markdown",
   "id": "8aa6662a",
   "metadata": {},
   "source": [
    "### MLP Neural Net"
   ]
  },
  {
   "cell_type": "code",
   "execution_count": 44,
   "id": "1497e549",
   "metadata": {},
   "outputs": [
    {
     "data": {
      "text/plain": [
       "MLPClassifier(alpha=1, max_iter=1000, random_state=0)"
      ]
     },
     "execution_count": 44,
     "metadata": {},
     "output_type": "execute_result"
    }
   ],
   "source": [
    "classifier = MLPClassifier(alpha=1, max_iter=1000, random_state=0)\n",
    "classifier.fit(X_train_scaled, y_train)"
   ]
  },
  {
   "cell_type": "code",
   "execution_count": 45,
   "id": "77f92572",
   "metadata": {},
   "outputs": [
    {
     "data": {
      "text/html": [
       "<div>\n",
       "<style scoped>\n",
       "    .dataframe tbody tr th:only-of-type {\n",
       "        vertical-align: middle;\n",
       "    }\n",
       "\n",
       "    .dataframe tbody tr th {\n",
       "        vertical-align: top;\n",
       "    }\n",
       "\n",
       "    .dataframe thead th {\n",
       "        text-align: right;\n",
       "    }\n",
       "</style>\n",
       "<table border=\"1\" class=\"dataframe\">\n",
       "  <thead>\n",
       "    <tr style=\"text-align: right;\">\n",
       "      <th></th>\n",
       "      <th>Predicted Under</th>\n",
       "      <th>Predicted Over</th>\n",
       "    </tr>\n",
       "  </thead>\n",
       "  <tbody>\n",
       "    <tr>\n",
       "      <th>Actual Under</th>\n",
       "      <td>418</td>\n",
       "      <td>340</td>\n",
       "    </tr>\n",
       "    <tr>\n",
       "      <th>Actual Over</th>\n",
       "      <td>333</td>\n",
       "      <td>402</td>\n",
       "    </tr>\n",
       "  </tbody>\n",
       "</table>\n",
       "</div>"
      ],
      "text/plain": [
       "              Predicted Under  Predicted Over\n",
       "Actual Under              418             340\n",
       "Actual Over               333             402"
      ]
     },
     "metadata": {},
     "output_type": "display_data"
    },
    {
     "name": "stdout",
     "output_type": "stream",
     "text": [
      "Accuracy Score : 0.5492297387809779\n",
      "              precision    recall  f1-score   support\n",
      "\n",
      "           0       0.56      0.55      0.55       758\n",
      "           1       0.54      0.55      0.54       735\n",
      "\n",
      "    accuracy                           0.55      1493\n",
      "   macro avg       0.55      0.55      0.55      1493\n",
      "weighted avg       0.55      0.55      0.55      1493\n",
      "\n"
     ]
    }
   ],
   "source": [
    "predictions = classifier.predict(X_test_scaled)\n",
    "results = pd.DataFrame({'Prediction':predictions, 'Actual':y_test}).reset_index(drop=True)\n",
    "\n",
    "# Calculating the confusion matrix.\n",
    "cm = confusion_matrix(y_test, predictions)\n",
    "\n",
    "# Create a DataFrame from the confusion matrix.\n",
    "cm_df = pd.DataFrame(\n",
    "    cm, index=[\"Actual Under\", \"Actual Over\"], columns=[\"Predicted Under\", \"Predicted Over\"])\n",
    "mlp_acc_score = accuracy_score(y_test, predictions)\n",
    "\n",
    "display(cm_df)\n",
    "print(f\"Accuracy Score : {mlp_acc_score}\")\n",
    "print(classification_report(y_test, predictions))"
   ]
  },
  {
   "cell_type": "markdown",
   "id": "9c6172b7",
   "metadata": {},
   "source": [
    "### Neural Network"
   ]
  },
  {
   "cell_type": "code",
   "execution_count": 46,
   "id": "59ac4583",
   "metadata": {
    "scrolled": true
   },
   "outputs": [
    {
     "name": "stdout",
     "output_type": "stream",
     "text": [
      "Model: \"sequential\"\n",
      "_________________________________________________________________\n",
      " Layer (type)                Output Shape              Param #   \n",
      "=================================================================\n",
      " dense_1 (Dense)             (None, 4)                 164       \n",
      "                                                                 \n",
      " dense_2 (Dense)             (None, 2)                 10        \n",
      "                                                                 \n",
      " dense_3 (Dense)             (None, 1)                 3         \n",
      "                                                                 \n",
      "=================================================================\n",
      "Total params: 177\n",
      "Trainable params: 177\n",
      "Non-trainable params: 0\n",
      "_________________________________________________________________\n",
      "None\n",
      "WARNING:tensorflow:`period` argument is deprecated. Please use `save_freq` to specify the frequency in number of batches seen.\n",
      "Epoch 1/80\n",
      "140/140 [==============================] - 1s 2ms/step - loss: 0.7342 - accuracy: 0.5152\n",
      "Epoch 2/80\n",
      "140/140 [==============================] - 0s 3ms/step - loss: 0.6949 - accuracy: 0.5125\n",
      "Epoch 3/80\n",
      "140/140 [==============================] - 0s 3ms/step - loss: 0.6918 - accuracy: 0.5154\n",
      "Epoch 4/80\n",
      "140/140 [==============================] - 0s 3ms/step - loss: 0.6900 - accuracy: 0.5226\n",
      "Epoch 5/80\n",
      "140/140 [==============================] - 1s 4ms/step - loss: 0.6889 - accuracy: 0.5244\n",
      "Epoch 6/80\n",
      "140/140 [==============================] - 0s 3ms/step - loss: 0.6878 - accuracy: 0.5228\n",
      "Epoch 7/80\n",
      "140/140 [==============================] - 0s 3ms/step - loss: 0.6866 - accuracy: 0.5308\n",
      "Epoch 8/80\n",
      "140/140 [==============================] - 0s 2ms/step - loss: 0.6860 - accuracy: 0.5311\n",
      "Epoch 9/80\n",
      "140/140 [==============================] - 0s 3ms/step - loss: 0.6853 - accuracy: 0.5387\n",
      "Epoch 10/80\n",
      "140/140 [==============================] - 0s 3ms/step - loss: 0.6846 - accuracy: 0.5353\n",
      "Epoch 11/80\n",
      "140/140 [==============================] - 0s 2ms/step - loss: 0.6841 - accuracy: 0.5427\n",
      "Epoch 12/80\n",
      "140/140 [==============================] - 0s 2ms/step - loss: 0.6835 - accuracy: 0.5429\n",
      "Epoch 13/80\n",
      "140/140 [==============================] - 0s 2ms/step - loss: 0.6834 - accuracy: 0.5422\n",
      "Epoch 14/80\n",
      "140/140 [==============================] - 0s 2ms/step - loss: 0.6830 - accuracy: 0.5400\n",
      "Epoch 15/80\n",
      "140/140 [==============================] - 0s 3ms/step - loss: 0.6825 - accuracy: 0.5462\n",
      "Epoch 16/80\n",
      "140/140 [==============================] - 0s 2ms/step - loss: 0.6822 - accuracy: 0.5480\n",
      "Epoch 17/80\n",
      "140/140 [==============================] - 0s 3ms/step - loss: 0.6822 - accuracy: 0.5485\n",
      "Epoch 18/80\n",
      "140/140 [==============================] - 0s 2ms/step - loss: 0.6818 - accuracy: 0.5478\n",
      "Epoch 19/80\n",
      "140/140 [==============================] - 0s 2ms/step - loss: 0.6813 - accuracy: 0.5516\n",
      "Epoch 20/80\n",
      "140/140 [==============================] - 0s 3ms/step - loss: 0.6813 - accuracy: 0.5498\n",
      "Epoch 21/80\n",
      "140/140 [==============================] - 0s 3ms/step - loss: 0.6806 - accuracy: 0.5498\n",
      "Epoch 22/80\n",
      "140/140 [==============================] - 0s 3ms/step - loss: 0.6808 - accuracy: 0.5527\n",
      "Epoch 23/80\n",
      "140/140 [==============================] - 0s 2ms/step - loss: 0.6808 - accuracy: 0.5536\n",
      "Epoch 24/80\n",
      "140/140 [==============================] - 0s 2ms/step - loss: 0.6804 - accuracy: 0.5547\n",
      "Epoch 25/80\n",
      "140/140 [==============================] - 0s 3ms/step - loss: 0.6799 - accuracy: 0.5554\n",
      "Epoch 26/80\n",
      "140/140 [==============================] - 0s 2ms/step - loss: 0.6799 - accuracy: 0.5550\n",
      "Epoch 27/80\n",
      "140/140 [==============================] - 0s 3ms/step - loss: 0.6800 - accuracy: 0.5563\n",
      "Epoch 28/80\n",
      "140/140 [==============================] - 0s 2ms/step - loss: 0.6798 - accuracy: 0.5567\n",
      "Epoch 29/80\n",
      "140/140 [==============================] - 0s 2ms/step - loss: 0.6796 - accuracy: 0.5543\n",
      "Epoch 30/80\n",
      "140/140 [==============================] - 0s 3ms/step - loss: 0.6793 - accuracy: 0.5588\n",
      "Epoch 31/80\n",
      "140/140 [==============================] - 0s 2ms/step - loss: 0.6795 - accuracy: 0.5567\n",
      "Epoch 32/80\n",
      "140/140 [==============================] - 0s 2ms/step - loss: 0.6793 - accuracy: 0.5550\n",
      "Epoch 33/80\n",
      "140/140 [==============================] - 0s 2ms/step - loss: 0.6797 - accuracy: 0.5552\n",
      "Epoch 34/80\n",
      "140/140 [==============================] - 0s 2ms/step - loss: 0.6793 - accuracy: 0.5567\n",
      "Epoch 35/80\n",
      "140/140 [==============================] - 0s 3ms/step - loss: 0.6790 - accuracy: 0.5572\n",
      "Epoch 36/80\n",
      "140/140 [==============================] - 0s 2ms/step - loss: 0.6792 - accuracy: 0.5556\n",
      "Epoch 37/80\n",
      "140/140 [==============================] - 0s 3ms/step - loss: 0.6789 - accuracy: 0.5592\n",
      "Epoch 38/80\n",
      "140/140 [==============================] - 0s 2ms/step - loss: 0.6787 - accuracy: 0.5567\n",
      "Epoch 39/80\n",
      "140/140 [==============================] - 0s 2ms/step - loss: 0.6785 - accuracy: 0.5585\n",
      "Epoch 40/80\n",
      "140/140 [==============================] - 0s 3ms/step - loss: 0.6786 - accuracy: 0.5588\n",
      "Epoch 41/80\n",
      "140/140 [==============================] - 0s 2ms/step - loss: 0.6784 - accuracy: 0.5592\n",
      "Epoch 42/80\n",
      "140/140 [==============================] - 0s 2ms/step - loss: 0.6781 - accuracy: 0.5610\n",
      "Epoch 43/80\n",
      "140/140 [==============================] - 0s 2ms/step - loss: 0.6781 - accuracy: 0.5583\n",
      "Epoch 44/80\n",
      "140/140 [==============================] - 0s 2ms/step - loss: 0.6779 - accuracy: 0.5608\n",
      "Epoch 45/80\n",
      "140/140 [==============================] - 0s 3ms/step - loss: 0.6785 - accuracy: 0.5570\n",
      "Epoch 46/80\n",
      "140/140 [==============================] - 0s 2ms/step - loss: 0.6778 - accuracy: 0.5603\n",
      "Epoch 47/80\n",
      "140/140 [==============================] - 0s 2ms/step - loss: 0.6775 - accuracy: 0.5621\n",
      "Epoch 48/80\n",
      "140/140 [==============================] - 0s 2ms/step - loss: 0.6779 - accuracy: 0.5567\n",
      "Epoch 49/80\n",
      "140/140 [==============================] - 0s 2ms/step - loss: 0.6778 - accuracy: 0.5574\n",
      "Epoch 50/80\n",
      "140/140 [==============================] - 0s 3ms/step - loss: 0.6778 - accuracy: 0.5592\n",
      "Epoch 51/80\n",
      "140/140 [==============================] - 0s 2ms/step - loss: 0.6774 - accuracy: 0.5630\n",
      "Epoch 52/80\n",
      "140/140 [==============================] - 0s 2ms/step - loss: 0.6773 - accuracy: 0.5621\n",
      "Epoch 53/80\n",
      "140/140 [==============================] - 0s 3ms/step - loss: 0.6778 - accuracy: 0.5610\n",
      "Epoch 54/80\n",
      "140/140 [==============================] - 0s 3ms/step - loss: 0.6770 - accuracy: 0.5617\n",
      "Epoch 55/80\n",
      "140/140 [==============================] - 0s 3ms/step - loss: 0.6772 - accuracy: 0.5612\n",
      "Epoch 56/80\n",
      "140/140 [==============================] - 0s 2ms/step - loss: 0.6770 - accuracy: 0.5594\n",
      "Epoch 57/80\n",
      "140/140 [==============================] - 0s 2ms/step - loss: 0.6774 - accuracy: 0.5626\n",
      "Epoch 58/80\n",
      "140/140 [==============================] - 0s 2ms/step - loss: 0.6768 - accuracy: 0.5608\n",
      "Epoch 59/80\n",
      "140/140 [==============================] - 0s 2ms/step - loss: 0.6767 - accuracy: 0.5603\n",
      "Epoch 60/80\n",
      "140/140 [==============================] - 0s 2ms/step - loss: 0.6766 - accuracy: 0.5626\n",
      "Epoch 61/80\n",
      "140/140 [==============================] - 0s 2ms/step - loss: 0.6769 - accuracy: 0.5601\n",
      "Epoch 62/80\n",
      "140/140 [==============================] - 0s 2ms/step - loss: 0.6763 - accuracy: 0.5632\n",
      "Epoch 63/80\n",
      "140/140 [==============================] - 0s 2ms/step - loss: 0.6762 - accuracy: 0.5597\n",
      "Epoch 64/80\n",
      "140/140 [==============================] - 0s 2ms/step - loss: 0.6764 - accuracy: 0.5594\n",
      "Epoch 65/80\n",
      "140/140 [==============================] - 0s 3ms/step - loss: 0.6756 - accuracy: 0.5643\n",
      "Epoch 66/80\n",
      "140/140 [==============================] - 0s 2ms/step - loss: 0.6759 - accuracy: 0.5637\n",
      "Epoch 67/80\n",
      "140/140 [==============================] - 0s 2ms/step - loss: 0.6762 - accuracy: 0.5641\n",
      "Epoch 68/80\n",
      "140/140 [==============================] - 0s 2ms/step - loss: 0.6758 - accuracy: 0.5652\n",
      "Epoch 69/80\n",
      "140/140 [==============================] - 0s 2ms/step - loss: 0.6758 - accuracy: 0.5670\n",
      "Epoch 70/80\n",
      "140/140 [==============================] - 0s 3ms/step - loss: 0.6755 - accuracy: 0.5664\n",
      "Epoch 71/80\n",
      "140/140 [==============================] - 0s 2ms/step - loss: 0.6756 - accuracy: 0.5650\n",
      "Epoch 72/80\n",
      "140/140 [==============================] - 0s 2ms/step - loss: 0.6757 - accuracy: 0.5688\n",
      "Epoch 73/80\n",
      "140/140 [==============================] - 0s 3ms/step - loss: 0.6755 - accuracy: 0.5643\n",
      "Epoch 74/80\n",
      "140/140 [==============================] - 0s 2ms/step - loss: 0.6755 - accuracy: 0.5630\n",
      "Epoch 75/80\n",
      "140/140 [==============================] - 0s 3ms/step - loss: 0.6750 - accuracy: 0.5661\n",
      "Epoch 76/80\n",
      "140/140 [==============================] - 0s 2ms/step - loss: 0.6749 - accuracy: 0.5659\n",
      "Epoch 77/80\n",
      "140/140 [==============================] - 0s 2ms/step - loss: 0.6746 - accuracy: 0.5677\n",
      "Epoch 78/80\n",
      "140/140 [==============================] - 0s 2ms/step - loss: 0.6746 - accuracy: 0.5670\n",
      "Epoch 79/80\n",
      "140/140 [==============================] - 0s 2ms/step - loss: 0.6749 - accuracy: 0.5652\n",
      "Epoch 80/80\n",
      "140/140 [==============================] - 0s 2ms/step - loss: 0.6742 - accuracy: 0.5675\n"
     ]
    }
   ],
   "source": [
    "# Define the model - deep neural net, i.e., the number of input features and hidden nodes for each layer.\n",
    "number_input_features = len(X_train_scaled[0])\n",
    "nodes_hidden_layer1 = 4\n",
    "nodes_hidden_layer2 = 2\n",
    "nn = tf.keras.models.Sequential()\n",
    "dense = tf.keras.layers.Dense(2, kernel_regularizer='l1_l2')\n",
    "\n",
    "\n",
    "# First hidden layer\n",
    "nn.add(tf.keras.layers.Dense(units=nodes_hidden_layer1, activation='relu', input_dim=number_input_features))\n",
    "# Second hidden layer\n",
    "nn.add(tf.keras.layers.Dense(units=nodes_hidden_layer2, activation='relu'))\n",
    "# Output layer\n",
    "nn.add(tf.keras.layers.Dense(units=1, activation=\"sigmoid\"))\n",
    "\n",
    "# Check the structure of the model\n",
    "print(nn.summary())\n",
    "\n",
    "nn.compile(loss=\"binary_crossentropy\", optimizer=\"adam\", metrics=[\"accuracy\"])\n",
    "\n",
    "os.makedirs(\"checkpoints_optimization_change_activ/\", exist_ok=True)\n",
    "checkpoint_path = \"checkpoints_optimization_change_activ/weights.{epoch:02d}hdf5\"\n",
    "# Create a callback that saves the model's weights every 5 epochs\n",
    "cp_callback = ModelCheckpoint(\n",
    "    filepath=checkpoint_path,\n",
    "    verbose=0,\n",
    "    save_weights_only=True,\n",
    "    save_freq='epoch',\n",
    "    period=5)\n",
    "\n",
    "# Train the model\n",
    "fit_model = nn.fit(X_train_scaled, y_train, epochs=80, callbacks=[cp_callback], verbose=1)"
   ]
  },
  {
   "cell_type": "code",
   "execution_count": 47,
   "id": "0d8a9da7",
   "metadata": {
    "scrolled": true
   },
   "outputs": [
    {
     "name": "stdout",
     "output_type": "stream",
     "text": [
      "47/47 - 0s - loss: 0.6999 - accuracy: 0.5184 - 308ms/epoch - 7ms/step\n",
      "Loss: 0.699886679649353, Accuracy: 0.5184192657470703\n"
     ]
    }
   ],
   "source": [
    "model_loss, nn_acc_score = nn.evaluate(X_test_scaled,y_test,verbose=2)\n",
    "print(f\"Loss: {model_loss}, Accuracy: {nn_acc_score}\")"
   ]
  },
  {
   "cell_type": "markdown",
   "id": "06163c25",
   "metadata": {},
   "source": [
    "## Models Summary"
   ]
  },
  {
   "cell_type": "code",
   "execution_count": 48,
   "id": "61bf765c",
   "metadata": {},
   "outputs": [
    {
     "data": {
      "text/html": [
       "<div>\n",
       "<style scoped>\n",
       "    .dataframe tbody tr th:only-of-type {\n",
       "        vertical-align: middle;\n",
       "    }\n",
       "\n",
       "    .dataframe tbody tr th {\n",
       "        vertical-align: top;\n",
       "    }\n",
       "\n",
       "    .dataframe thead th {\n",
       "        text-align: right;\n",
       "    }\n",
       "</style>\n",
       "<table border=\"1\" class=\"dataframe\">\n",
       "  <thead>\n",
       "    <tr style=\"text-align: right;\">\n",
       "      <th></th>\n",
       "      <th>0</th>\n",
       "    </tr>\n",
       "  </thead>\n",
       "  <tbody>\n",
       "    <tr>\n",
       "      <th>LogReg</th>\n",
       "      <td>0.574012</td>\n",
       "    </tr>\n",
       "    <tr>\n",
       "      <th>Perceptron</th>\n",
       "      <td>0.525117</td>\n",
       "    </tr>\n",
       "    <tr>\n",
       "      <th>PassiveAgressive</th>\n",
       "      <td>0.517080</td>\n",
       "    </tr>\n",
       "    <tr>\n",
       "      <th>Ridge</th>\n",
       "      <td>0.578701</td>\n",
       "    </tr>\n",
       "    <tr>\n",
       "      <th>Linear SVM</th>\n",
       "      <td>0.576021</td>\n",
       "    </tr>\n",
       "    <tr>\n",
       "      <th>RBF SVM</th>\n",
       "      <td>0.509712</td>\n",
       "    </tr>\n",
       "    <tr>\n",
       "      <th>NuSupport SVC</th>\n",
       "      <td>0.509712</td>\n",
       "    </tr>\n",
       "    <tr>\n",
       "      <th>Decision Tree</th>\n",
       "      <td>0.503684</td>\n",
       "    </tr>\n",
       "    <tr>\n",
       "      <th>Random Forest</th>\n",
       "      <td>0.503684</td>\n",
       "    </tr>\n",
       "    <tr>\n",
       "      <th>Gradient Boosting</th>\n",
       "      <td>0.557937</td>\n",
       "    </tr>\n",
       "    <tr>\n",
       "      <th>AdaBoost</th>\n",
       "      <td>0.566644</td>\n",
       "    </tr>\n",
       "    <tr>\n",
       "      <th>Bagging</th>\n",
       "      <td>0.551239</td>\n",
       "    </tr>\n",
       "    <tr>\n",
       "      <th>Extra Trees</th>\n",
       "      <td>0.565305</td>\n",
       "    </tr>\n",
       "    <tr>\n",
       "      <th>Hist Gradient Boost</th>\n",
       "      <td>0.543202</td>\n",
       "    </tr>\n",
       "    <tr>\n",
       "      <th>Naive Bayes</th>\n",
       "      <td>0.549900</td>\n",
       "    </tr>\n",
       "    <tr>\n",
       "      <th>LDA</th>\n",
       "      <td>0.561956</td>\n",
       "    </tr>\n",
       "    <tr>\n",
       "      <th>QDA</th>\n",
       "      <td>0.514401</td>\n",
       "    </tr>\n",
       "    <tr>\n",
       "      <th>Nearest Neighbor</th>\n",
       "      <td>0.525117</td>\n",
       "    </tr>\n",
       "    <tr>\n",
       "      <th>MLP Neural Net</th>\n",
       "      <td>0.549230</td>\n",
       "    </tr>\n",
       "    <tr>\n",
       "      <th>Deep Neural Net</th>\n",
       "      <td>0.518419</td>\n",
       "    </tr>\n",
       "  </tbody>\n",
       "</table>\n",
       "</div>"
      ],
      "text/plain": [
       "                            0\n",
       "LogReg               0.574012\n",
       "Perceptron           0.525117\n",
       "PassiveAgressive     0.517080\n",
       "Ridge                0.578701\n",
       "Linear SVM           0.576021\n",
       "RBF SVM              0.509712\n",
       "NuSupport SVC        0.509712\n",
       "Decision Tree        0.503684\n",
       "Random Forest        0.503684\n",
       "Gradient Boosting    0.557937\n",
       "AdaBoost             0.566644\n",
       "Bagging              0.551239\n",
       "Extra Trees          0.565305\n",
       "Hist Gradient Boost  0.543202\n",
       "Naive Bayes          0.549900\n",
       "LDA                  0.561956\n",
       "QDA                  0.514401\n",
       "Nearest Neighbor     0.525117\n",
       "MLP Neural Net       0.549230\n",
       "Deep Neural Net      0.518419"
      ]
     },
     "execution_count": 48,
     "metadata": {},
     "output_type": "execute_result"
    }
   ],
   "source": [
    "dat = [{'LogReg' : logreg_acc_score,\n",
    "       'Perceptron' : percep_acc_score,\n",
    "       'PassiveAgressive' : pasagres_acc_score,\n",
    "       'Ridge' : ridge_acc_score,\n",
    "       'Linear SVM' : linsvm_acc_score,\n",
    "       'RBF SVM' : rbfsvm_acc_score,\n",
    "       'NuSupport SVC' : nusvc_acc_score,\n",
    "       'Decision Tree' : decision_tree_acc_score,\n",
    "       'Random Forest' : randforest_acc_score,\n",
    "       'Gradient Boosting' : gradboost_acc_score,\n",
    "       'AdaBoost' : adaboost_acc_score,\n",
    "       'Bagging' : bag_acc_score,\n",
    "       'Extra Trees' : extratrees_acc_score,\n",
    "       'Hist Gradient Boost' : histgrad_acc_score,\n",
    "       'Naive Bayes' : nbayes_acc_score,\n",
    "       'LDA' : lda_acc_score,\n",
    "       'QDA' : qda_acc_score,\n",
    "       'Nearest Neighbor' : nearneighboor_acc_score,\n",
    "       'MLP Neural Net' : mlp_acc_score,\n",
    "       'Deep Neural Net' : nn_acc_score}]\n",
    "df1 = pd.DataFrame(dat)\n",
    "df2 = df1.transpose()\n",
    "df2"
   ]
  },
  {
   "cell_type": "code",
   "execution_count": 2,
   "id": "390b9884",
   "metadata": {},
   "outputs": [
    {
     "ename": "NameError",
     "evalue": "name 'df2' is not defined",
     "output_type": "error",
     "traceback": [
      "\u001b[0;31m---------------------------------------------------------------------------\u001b[0m",
      "\u001b[0;31mNameError\u001b[0m                                 Traceback (most recent call last)",
      "Input \u001b[0;32mIn [2]\u001b[0m, in \u001b[0;36m<cell line: 1>\u001b[0;34m()\u001b[0m\n\u001b[0;32m----> 1\u001b[0m \u001b[43mdf2\u001b[49m\u001b[38;5;241m.\u001b[39mto_csv(\u001b[38;5;124m'\u001b[39m\u001b[38;5;124mmodel_summary.csv\u001b[39m\u001b[38;5;124m'\u001b[39m)\n",
      "\u001b[0;31mNameError\u001b[0m: name 'df2' is not defined"
     ]
    }
   ],
   "source": [
    "df2.to_csv('model_summary.csv')"
   ]
  },
  {
   "cell_type": "code",
   "execution_count": null,
   "id": "97b8d358",
   "metadata": {},
   "outputs": [],
   "source": []
  }
 ],
 "metadata": {
  "kernelspec": {
   "display_name": "mlenv",
   "language": "python",
   "name": "mlenv"
  },
  "language_info": {
   "codemirror_mode": {
    "name": "ipython",
    "version": 3
   },
   "file_extension": ".py",
   "mimetype": "text/x-python",
   "name": "python",
   "nbconvert_exporter": "python",
   "pygments_lexer": "ipython3",
   "version": "3.9.12"
  }
 },
 "nbformat": 4,
 "nbformat_minor": 5
}
