{
 "cells": [
  {
   "cell_type": "markdown",
   "id": "035af5d6",
   "metadata": {},
   "source": [
    "# NFL Over Under Machine Learning"
   ]
  },
  {
   "cell_type": "markdown",
   "id": "5b71afcd",
   "metadata": {},
   "source": [
    "## Pre Processing"
   ]
  },
  {
   "cell_type": "code",
   "execution_count": 74,
   "id": "6f3f492a",
   "metadata": {},
   "outputs": [],
   "source": [
    "# import dependencies\n",
    "from pathlib import Path\n",
    "import pandas as pd\n",
    "from sklearn.model_selection import train_test_split\n",
    "from sklearn.linear_model import LogisticRegression\n",
    "from sklearn.svm import SVC\n",
    "from sklearn.preprocessing import StandardScaler\n",
    "from sklearn.metrics import accuracy_score\n",
    "from sklearn import tree\n",
    "from sklearn.ensemble import RandomForestClassifier\n",
    "from sklearn.metrics import confusion_matrix, accuracy_score, classification_report\n",
    "from sklearn.ensemble import GradientBoostingClassifier"
   ]
  },
  {
   "cell_type": "code",
   "execution_count": 52,
   "id": "ae053e91",
   "metadata": {},
   "outputs": [
    {
     "data": {
      "text/html": [
       "<div>\n",
       "<style scoped>\n",
       "    .dataframe tbody tr th:only-of-type {\n",
       "        vertical-align: middle;\n",
       "    }\n",
       "\n",
       "    .dataframe tbody tr th {\n",
       "        vertical-align: top;\n",
       "    }\n",
       "\n",
       "    .dataframe thead th {\n",
       "        text-align: right;\n",
       "    }\n",
       "</style>\n",
       "<table border=\"1\" class=\"dataframe\">\n",
       "  <thead>\n",
       "    <tr style=\"text-align: right;\">\n",
       "      <th></th>\n",
       "      <th>index</th>\n",
       "      <th>date</th>\n",
       "      <th>year</th>\n",
       "      <th>week</th>\n",
       "      <th>team_home_full</th>\n",
       "      <th>team_home_abrv</th>\n",
       "      <th>team_home_combined</th>\n",
       "      <th>team_away_full</th>\n",
       "      <th>team_away_abrv</th>\n",
       "      <th>team_away_combined</th>\n",
       "      <th>...</th>\n",
       "      <th>team_home_dvoa_dave</th>\n",
       "      <th>team_home_dvoa_offense</th>\n",
       "      <th>team_home_dvoa_defense</th>\n",
       "      <th>team_home_dvoa_special</th>\n",
       "      <th>team_away_dvoa_overall</th>\n",
       "      <th>team_away_dvoa_weighted</th>\n",
       "      <th>team_away_dvoa_dave</th>\n",
       "      <th>team_away_dvoa_offense</th>\n",
       "      <th>team_away_dvoa_defense</th>\n",
       "      <th>team_away_dvoa_special</th>\n",
       "    </tr>\n",
       "  </thead>\n",
       "  <tbody>\n",
       "    <tr>\n",
       "      <th>0</th>\n",
       "      <td>14</td>\n",
       "      <td>1/9/2022</td>\n",
       "      <td>2021</td>\n",
       "      <td>18</td>\n",
       "      <td>Baltimore Ravens</td>\n",
       "      <td>BAL</td>\n",
       "      <td>BAL2021</td>\n",
       "      <td>Pittsburgh Steelers</td>\n",
       "      <td>PIT</td>\n",
       "      <td>PIT2021</td>\n",
       "      <td>...</td>\n",
       "      <td>0.017</td>\n",
       "      <td>0.093</td>\n",
       "      <td>0.050</td>\n",
       "      <td>0.073</td>\n",
       "      <td>-0.102</td>\n",
       "      <td>-0.125</td>\n",
       "      <td>-0.110</td>\n",
       "      <td>-0.006</td>\n",
       "      <td>0.002</td>\n",
       "      <td>0.071</td>\n",
       "    </tr>\n",
       "    <tr>\n",
       "      <th>1</th>\n",
       "      <td>32</td>\n",
       "      <td>1/2/2022</td>\n",
       "      <td>2021</td>\n",
       "      <td>17</td>\n",
       "      <td>New England Patriots</td>\n",
       "      <td>NE</td>\n",
       "      <td>NE2021</td>\n",
       "      <td>Jacksonville Jaguars</td>\n",
       "      <td>JAX</td>\n",
       "      <td>JAX2021</td>\n",
       "      <td>...</td>\n",
       "      <td>0.105</td>\n",
       "      <td>-0.128</td>\n",
       "      <td>0.000</td>\n",
       "      <td>0.101</td>\n",
       "      <td>-0.310</td>\n",
       "      <td>-0.308</td>\n",
       "      <td>-0.151</td>\n",
       "      <td>0.117</td>\n",
       "      <td>-0.042</td>\n",
       "      <td>0.047</td>\n",
       "    </tr>\n",
       "    <tr>\n",
       "      <th>2</th>\n",
       "      <td>1549</td>\n",
       "      <td>12/29/2013</td>\n",
       "      <td>2013</td>\n",
       "      <td>17</td>\n",
       "      <td>New York Giants</td>\n",
       "      <td>NYG</td>\n",
       "      <td>NYG2013</td>\n",
       "      <td>Washington Redskins</td>\n",
       "      <td>WAS</td>\n",
       "      <td>WAS2013</td>\n",
       "      <td>...</td>\n",
       "      <td>-0.220</td>\n",
       "      <td>-0.106</td>\n",
       "      <td>-0.051</td>\n",
       "      <td>0.055</td>\n",
       "      <td>-0.275</td>\n",
       "      <td>-0.259</td>\n",
       "      <td>-0.101</td>\n",
       "      <td>0.053</td>\n",
       "      <td>-0.120</td>\n",
       "      <td>0.040</td>\n",
       "    </tr>\n",
       "    <tr>\n",
       "      <th>3</th>\n",
       "      <td>1550</td>\n",
       "      <td>12/29/2013</td>\n",
       "      <td>2013</td>\n",
       "      <td>17</td>\n",
       "      <td>New England Patriots</td>\n",
       "      <td>NE</td>\n",
       "      <td>NE2013</td>\n",
       "      <td>Buffalo Bills</td>\n",
       "      <td>BUF</td>\n",
       "      <td>BUF2013</td>\n",
       "      <td>...</td>\n",
       "      <td>0.165</td>\n",
       "      <td>0.053</td>\n",
       "      <td>0.067</td>\n",
       "      <td>0.108</td>\n",
       "      <td>-0.039</td>\n",
       "      <td>-0.046</td>\n",
       "      <td>-0.118</td>\n",
       "      <td>-0.134</td>\n",
       "      <td>-0.056</td>\n",
       "      <td>0.070</td>\n",
       "    </tr>\n",
       "    <tr>\n",
       "      <th>4</th>\n",
       "      <td>1642</td>\n",
       "      <td>11/17/2013</td>\n",
       "      <td>2013</td>\n",
       "      <td>11</td>\n",
       "      <td>New York Giants</td>\n",
       "      <td>NYG</td>\n",
       "      <td>NYG2013</td>\n",
       "      <td>Green Bay Packers</td>\n",
       "      <td>GB</td>\n",
       "      <td>GB2013</td>\n",
       "      <td>...</td>\n",
       "      <td>-0.220</td>\n",
       "      <td>-0.106</td>\n",
       "      <td>-0.051</td>\n",
       "      <td>0.055</td>\n",
       "      <td>-0.077</td>\n",
       "      <td>-0.147</td>\n",
       "      <td>0.085</td>\n",
       "      <td>0.159</td>\n",
       "      <td>-0.003</td>\n",
       "      <td>0.071</td>\n",
       "    </tr>\n",
       "  </tbody>\n",
       "</table>\n",
       "<p>5 rows × 43 columns</p>\n",
       "</div>"
      ],
      "text/plain": [
       "   index        date  year  week        team_home_full team_home_abrv  \\\n",
       "0     14    1/9/2022  2021    18      Baltimore Ravens            BAL   \n",
       "1     32    1/2/2022  2021    17  New England Patriots             NE   \n",
       "2   1549  12/29/2013  2013    17       New York Giants            NYG   \n",
       "3   1550  12/29/2013  2013    17  New England Patriots             NE   \n",
       "4   1642  11/17/2013  2013    11       New York Giants            NYG   \n",
       "\n",
       "  team_home_combined        team_away_full team_away_abrv team_away_combined  \\\n",
       "0            BAL2021   Pittsburgh Steelers            PIT            PIT2021   \n",
       "1             NE2021  Jacksonville Jaguars            JAX            JAX2021   \n",
       "2            NYG2013   Washington Redskins            WAS            WAS2013   \n",
       "3             NE2013         Buffalo Bills            BUF            BUF2013   \n",
       "4            NYG2013     Green Bay Packers             GB             GB2013   \n",
       "\n",
       "   ...  team_home_dvoa_dave  team_home_dvoa_offense  team_home_dvoa_defense  \\\n",
       "0  ...                0.017                   0.093                   0.050   \n",
       "1  ...                0.105                  -0.128                   0.000   \n",
       "2  ...               -0.220                  -0.106                  -0.051   \n",
       "3  ...                0.165                   0.053                   0.067   \n",
       "4  ...               -0.220                  -0.106                  -0.051   \n",
       "\n",
       "   team_home_dvoa_special  team_away_dvoa_overall  team_away_dvoa_weighted  \\\n",
       "0                   0.073                  -0.102                   -0.125   \n",
       "1                   0.101                  -0.310                   -0.308   \n",
       "2                   0.055                  -0.275                   -0.259   \n",
       "3                   0.108                  -0.039                   -0.046   \n",
       "4                   0.055                  -0.077                   -0.147   \n",
       "\n",
       "  team_away_dvoa_dave  team_away_dvoa_offense  team_away_dvoa_defense  \\\n",
       "0              -0.110                  -0.006                   0.002   \n",
       "1              -0.151                   0.117                  -0.042   \n",
       "2              -0.101                   0.053                  -0.120   \n",
       "3              -0.118                  -0.134                  -0.056   \n",
       "4               0.085                   0.159                  -0.003   \n",
       "\n",
       "   team_away_dvoa_special  \n",
       "0                   0.071  \n",
       "1                   0.047  \n",
       "2                   0.040  \n",
       "3                   0.070  \n",
       "4                   0.071  \n",
       "\n",
       "[5 rows x 43 columns]"
      ]
     },
     "execution_count": 52,
     "metadata": {},
     "output_type": "execute_result"
    }
   ],
   "source": [
    "# import data\n",
    "data = Path('spreadspoke_scores_CLEANED4.csv')\n",
    "df = pd.read_csv(data)\n",
    "df.head()"
   ]
  },
  {
   "cell_type": "code",
   "execution_count": 53,
   "id": "e4ac0a8e",
   "metadata": {},
   "outputs": [
    {
     "data": {
      "text/html": [
       "<div>\n",
       "<style scoped>\n",
       "    .dataframe tbody tr th:only-of-type {\n",
       "        vertical-align: middle;\n",
       "    }\n",
       "\n",
       "    .dataframe tbody tr th {\n",
       "        vertical-align: top;\n",
       "    }\n",
       "\n",
       "    .dataframe thead th {\n",
       "        text-align: right;\n",
       "    }\n",
       "</style>\n",
       "<table border=\"1\" class=\"dataframe\">\n",
       "  <thead>\n",
       "    <tr style=\"text-align: right;\">\n",
       "      <th></th>\n",
       "      <th>index</th>\n",
       "      <th>year</th>\n",
       "      <th>week</th>\n",
       "      <th>over_under</th>\n",
       "      <th>favorite_spread</th>\n",
       "      <th>temperature</th>\n",
       "      <th>wind_mph</th>\n",
       "      <th>dome_binary</th>\n",
       "      <th>team_home_off_pace_neutral</th>\n",
       "      <th>team_home_def_pace_neutral</th>\n",
       "      <th>...</th>\n",
       "      <th>team_home_dvoa_dave</th>\n",
       "      <th>team_home_dvoa_offense</th>\n",
       "      <th>team_home_dvoa_defense</th>\n",
       "      <th>team_home_dvoa_special</th>\n",
       "      <th>team_away_dvoa_overall</th>\n",
       "      <th>team_away_dvoa_weighted</th>\n",
       "      <th>team_away_dvoa_dave</th>\n",
       "      <th>team_away_dvoa_offense</th>\n",
       "      <th>team_away_dvoa_defense</th>\n",
       "      <th>team_away_dvoa_special</th>\n",
       "    </tr>\n",
       "  </thead>\n",
       "  <tbody>\n",
       "    <tr>\n",
       "      <th>0</th>\n",
       "      <td>14</td>\n",
       "      <td>2021</td>\n",
       "      <td>18</td>\n",
       "      <td>41.0</td>\n",
       "      <td>-3.0</td>\n",
       "      <td>36</td>\n",
       "      <td>0</td>\n",
       "      <td>0</td>\n",
       "      <td>32.42</td>\n",
       "      <td>31.19</td>\n",
       "      <td>...</td>\n",
       "      <td>0.017</td>\n",
       "      <td>0.093</td>\n",
       "      <td>0.050</td>\n",
       "      <td>0.073</td>\n",
       "      <td>-0.102</td>\n",
       "      <td>-0.125</td>\n",
       "      <td>-0.110</td>\n",
       "      <td>-0.006</td>\n",
       "      <td>0.002</td>\n",
       "      <td>0.071</td>\n",
       "    </tr>\n",
       "    <tr>\n",
       "      <th>1</th>\n",
       "      <td>32</td>\n",
       "      <td>2021</td>\n",
       "      <td>17</td>\n",
       "      <td>41.5</td>\n",
       "      <td>-17.5</td>\n",
       "      <td>46</td>\n",
       "      <td>4</td>\n",
       "      <td>0</td>\n",
       "      <td>32.57</td>\n",
       "      <td>30.59</td>\n",
       "      <td>...</td>\n",
       "      <td>0.105</td>\n",
       "      <td>-0.128</td>\n",
       "      <td>0.000</td>\n",
       "      <td>0.101</td>\n",
       "      <td>-0.310</td>\n",
       "      <td>-0.308</td>\n",
       "      <td>-0.151</td>\n",
       "      <td>0.117</td>\n",
       "      <td>-0.042</td>\n",
       "      <td>0.047</td>\n",
       "    </tr>\n",
       "    <tr>\n",
       "      <th>2</th>\n",
       "      <td>1549</td>\n",
       "      <td>2013</td>\n",
       "      <td>17</td>\n",
       "      <td>44.5</td>\n",
       "      <td>-3.5</td>\n",
       "      <td>42</td>\n",
       "      <td>5</td>\n",
       "      <td>0</td>\n",
       "      <td>31.08</td>\n",
       "      <td>29.50</td>\n",
       "      <td>...</td>\n",
       "      <td>-0.220</td>\n",
       "      <td>-0.106</td>\n",
       "      <td>-0.051</td>\n",
       "      <td>0.055</td>\n",
       "      <td>-0.275</td>\n",
       "      <td>-0.259</td>\n",
       "      <td>-0.101</td>\n",
       "      <td>0.053</td>\n",
       "      <td>-0.120</td>\n",
       "      <td>0.040</td>\n",
       "    </tr>\n",
       "    <tr>\n",
       "      <th>3</th>\n",
       "      <td>1550</td>\n",
       "      <td>2013</td>\n",
       "      <td>17</td>\n",
       "      <td>46.0</td>\n",
       "      <td>-7.0</td>\n",
       "      <td>41</td>\n",
       "      <td>8</td>\n",
       "      <td>0</td>\n",
       "      <td>26.59</td>\n",
       "      <td>29.09</td>\n",
       "      <td>...</td>\n",
       "      <td>0.165</td>\n",
       "      <td>0.053</td>\n",
       "      <td>0.067</td>\n",
       "      <td>0.108</td>\n",
       "      <td>-0.039</td>\n",
       "      <td>-0.046</td>\n",
       "      <td>-0.118</td>\n",
       "      <td>-0.134</td>\n",
       "      <td>-0.056</td>\n",
       "      <td>0.070</td>\n",
       "    </tr>\n",
       "    <tr>\n",
       "      <th>4</th>\n",
       "      <td>1642</td>\n",
       "      <td>2013</td>\n",
       "      <td>11</td>\n",
       "      <td>40.5</td>\n",
       "      <td>-3.0</td>\n",
       "      <td>61</td>\n",
       "      <td>2</td>\n",
       "      <td>0</td>\n",
       "      <td>31.08</td>\n",
       "      <td>29.50</td>\n",
       "      <td>...</td>\n",
       "      <td>-0.220</td>\n",
       "      <td>-0.106</td>\n",
       "      <td>-0.051</td>\n",
       "      <td>0.055</td>\n",
       "      <td>-0.077</td>\n",
       "      <td>-0.147</td>\n",
       "      <td>0.085</td>\n",
       "      <td>0.159</td>\n",
       "      <td>-0.003</td>\n",
       "      <td>0.071</td>\n",
       "    </tr>\n",
       "  </tbody>\n",
       "</table>\n",
       "<p>5 rows × 28 columns</p>\n",
       "</div>"
      ],
      "text/plain": [
       "   index  year  week  over_under  favorite_spread  temperature  wind_mph  \\\n",
       "0     14  2021    18        41.0             -3.0           36         0   \n",
       "1     32  2021    17        41.5            -17.5           46         4   \n",
       "2   1549  2013    17        44.5             -3.5           42         5   \n",
       "3   1550  2013    17        46.0             -7.0           41         8   \n",
       "4   1642  2013    11        40.5             -3.0           61         2   \n",
       "\n",
       "   dome_binary  team_home_off_pace_neutral  team_home_def_pace_neutral  ...  \\\n",
       "0            0                       32.42                       31.19  ...   \n",
       "1            0                       32.57                       30.59  ...   \n",
       "2            0                       31.08                       29.50  ...   \n",
       "3            0                       26.59                       29.09  ...   \n",
       "4            0                       31.08                       29.50  ...   \n",
       "\n",
       "   team_home_dvoa_dave  team_home_dvoa_offense  team_home_dvoa_defense  \\\n",
       "0                0.017                   0.093                   0.050   \n",
       "1                0.105                  -0.128                   0.000   \n",
       "2               -0.220                  -0.106                  -0.051   \n",
       "3                0.165                   0.053                   0.067   \n",
       "4               -0.220                  -0.106                  -0.051   \n",
       "\n",
       "   team_home_dvoa_special  team_away_dvoa_overall  team_away_dvoa_weighted  \\\n",
       "0                   0.073                  -0.102                   -0.125   \n",
       "1                   0.101                  -0.310                   -0.308   \n",
       "2                   0.055                  -0.275                   -0.259   \n",
       "3                   0.108                  -0.039                   -0.046   \n",
       "4                   0.055                  -0.077                   -0.147   \n",
       "\n",
       "   team_away_dvoa_dave  team_away_dvoa_offense  team_away_dvoa_defense  \\\n",
       "0               -0.110                  -0.006                   0.002   \n",
       "1               -0.151                   0.117                  -0.042   \n",
       "2               -0.101                   0.053                  -0.120   \n",
       "3               -0.118                  -0.134                  -0.056   \n",
       "4                0.085                   0.159                  -0.003   \n",
       "\n",
       "   team_away_dvoa_special  \n",
       "0                   0.071  \n",
       "1                   0.047  \n",
       "2                   0.040  \n",
       "3                   0.070  \n",
       "4                   0.071  \n",
       "\n",
       "[5 rows x 28 columns]"
      ]
     },
     "execution_count": 53,
     "metadata": {},
     "output_type": "execute_result"
    }
   ],
   "source": [
    "y = df['over_binary']\n",
    "X = df.drop(columns=['index','over_binary', 'over_under_diff', 'score_total', 'date', 'team_home_full', 'team_home_abrv', 'team_home_combined',\n",
    "                     'team_away_full', 'team_away_abrv', 'team_away_combined',\n",
    "                     'team_favorite_abrv', 'weather_detail', 'humidity', 'score_home', 'score_away'])\n",
    "X.head()"
   ]
  },
  {
   "cell_type": "code",
   "execution_count": 54,
   "id": "cedc033d",
   "metadata": {},
   "outputs": [
    {
     "name": "stdout",
     "output_type": "stream",
     "text": [
      "(3821, 28)\n",
      "(1274, 28)\n"
     ]
    }
   ],
   "source": [
    "X_train, X_test, y_train, y_test = train_test_split(X, \n",
    "                                                    y, \n",
    "                                                    random_state=1, \n",
    "                                                    stratify=y)\n",
    "print(X_train.shape)\n",
    "print(X_test.shape)"
   ]
  },
  {
   "cell_type": "code",
   "execution_count": 118,
   "id": "278dbd2d",
   "metadata": {},
   "outputs": [
    {
     "data": {
      "text/plain": [
       "array([[-0.18862263,  0.21851737, -1.02433281, ...,  0.15416254,\n",
       "         1.59366854,  0.09185808],\n",
       "       [-0.29626761,  0.21851737,  1.15207667, ...,  1.53920627,\n",
       "         1.03130197,  1.48422643],\n",
       "       [-0.23044647,  0.21851737, -0.03505577, ..., -1.4817949 ,\n",
       "         1.41473372,  0.09185808],\n",
       "       ...,\n",
       "       [-0.06040854,  0.04783976, -0.03505577, ...,  0.48536865,\n",
       "        -0.14455541,  0.09185808],\n",
       "       [ 1.50901421, -1.48825871, -0.03505577, ...,  0.144126  ,\n",
       "        -1.83165513, -0.62314189],\n",
       "       [ 1.3506321 , -1.3175811 , -0.23291118, ...,  0.9269768 ,\n",
       "         0.05994153, -0.47261558]])"
      ]
     },
     "execution_count": 118,
     "metadata": {},
     "output_type": "execute_result"
    }
   ],
   "source": [
    "# creating and Fitting a Standard Scaler with the training data\n",
    "scaler = StandardScaler()\n",
    "X_scaler = scaler.fit(X_train)\n",
    "\n",
    "# Scaling the data\n",
    "X_train_scaled = X_scaler.transform(X_train)\n",
    "X_test_scaled = X_scaler.transform(X_test)"
   ]
  },
  {
   "cell_type": "markdown",
   "id": "6342fb1f",
   "metadata": {},
   "source": [
    "## ML Algorithms"
   ]
  },
  {
   "cell_type": "markdown",
   "id": "0fb4677e",
   "metadata": {},
   "source": [
    "### Logisitic Regression"
   ]
  },
  {
   "cell_type": "code",
   "execution_count": 127,
   "id": "3c26370a",
   "metadata": {},
   "outputs": [
    {
     "data": {
      "text/plain": [
       "LogisticRegression(max_iter=2000, random_state=1)"
      ]
     },
     "execution_count": 127,
     "metadata": {},
     "output_type": "execute_result"
    }
   ],
   "source": [
    "classifier = LogisticRegression(solver='lbfgs',\n",
    "                                max_iter=2000,\n",
    "                                random_state=1)\n",
    "classifier.fit(X_train_scaled, y_train)"
   ]
  },
  {
   "cell_type": "code",
   "execution_count": 128,
   "id": "2b98dd6f",
   "metadata": {},
   "outputs": [
    {
     "name": "stdout",
     "output_type": "stream",
     "text": [
      "    Prediction  Actual\n",
      "0            1       1\n",
      "1            1       1\n",
      "2            0       0\n",
      "3            0       1\n",
      "4            1       0\n",
      "5            1       0\n",
      "6            1       0\n",
      "7            0       1\n",
      "8            1       0\n",
      "9            0       1\n",
      "10           1       0\n",
      "11           0       1\n",
      "12           1       0\n",
      "13           0       0\n",
      "14           1       1\n",
      "15           0       0\n",
      "16           1       1\n",
      "17           0       0\n",
      "18           1       0\n",
      "19           1       1\n",
      "0.565149136577708\n"
     ]
    }
   ],
   "source": [
    "y_pred = classifier.predict(X_test_scaled)\n",
    "results = pd.DataFrame({'Prediction':y_pred, 'Actual':y_test}).reset_index(drop=True)\n",
    "print(results.head(20))  \n",
    "print(accuracy_score(y_test, y_pred))"
   ]
  },
  {
   "cell_type": "code",
   "execution_count": 137,
   "id": "fd9c0b0b",
   "metadata": {},
   "outputs": [],
   "source": [
    "modelSVM = SVC(kernel='linear')"
   ]
  },
  {
   "cell_type": "code",
   "execution_count": 138,
   "id": "0a4182bc",
   "metadata": {},
   "outputs": [
    {
     "data": {
      "text/plain": [
       "SVC(kernel='linear')"
      ]
     },
     "execution_count": 138,
     "metadata": {},
     "output_type": "execute_result"
    }
   ],
   "source": [
    "modelSVM.fit(X_train_scaled, y_train)"
   ]
  },
  {
   "cell_type": "code",
   "execution_count": 139,
   "id": "a6d6a197",
   "metadata": {},
   "outputs": [
    {
     "data": {
      "text/html": [
       "<div>\n",
       "<style scoped>\n",
       "    .dataframe tbody tr th:only-of-type {\n",
       "        vertical-align: middle;\n",
       "    }\n",
       "\n",
       "    .dataframe tbody tr th {\n",
       "        vertical-align: top;\n",
       "    }\n",
       "\n",
       "    .dataframe thead th {\n",
       "        text-align: right;\n",
       "    }\n",
       "</style>\n",
       "<table border=\"1\" class=\"dataframe\">\n",
       "  <thead>\n",
       "    <tr style=\"text-align: right;\">\n",
       "      <th></th>\n",
       "      <th>Prediction</th>\n",
       "      <th>Actual</th>\n",
       "    </tr>\n",
       "  </thead>\n",
       "  <tbody>\n",
       "    <tr>\n",
       "      <th>0</th>\n",
       "      <td>1</td>\n",
       "      <td>1</td>\n",
       "    </tr>\n",
       "    <tr>\n",
       "      <th>1</th>\n",
       "      <td>1</td>\n",
       "      <td>1</td>\n",
       "    </tr>\n",
       "    <tr>\n",
       "      <th>2</th>\n",
       "      <td>0</td>\n",
       "      <td>0</td>\n",
       "    </tr>\n",
       "    <tr>\n",
       "      <th>3</th>\n",
       "      <td>0</td>\n",
       "      <td>1</td>\n",
       "    </tr>\n",
       "    <tr>\n",
       "      <th>4</th>\n",
       "      <td>1</td>\n",
       "      <td>0</td>\n",
       "    </tr>\n",
       "  </tbody>\n",
       "</table>\n",
       "</div>"
      ],
      "text/plain": [
       "   Prediction  Actual\n",
       "0           1       1\n",
       "1           1       1\n",
       "2           0       0\n",
       "3           0       1\n",
       "4           1       0"
      ]
     },
     "execution_count": 139,
     "metadata": {},
     "output_type": "execute_result"
    }
   ],
   "source": [
    "y_pred = modelSVM.predict(X_test_scaled)\n",
    "results = pd.DataFrame({\n",
    "   \"Prediction\": y_pred,\n",
    "   \"Actual\": y_test\n",
    "}).reset_index(drop=True)\n",
    "results.head()"
   ]
  },
  {
   "cell_type": "code",
   "execution_count": 140,
   "id": "b8a702a5",
   "metadata": {},
   "outputs": [
    {
     "data": {
      "text/plain": [
       "0.5635792778649922"
      ]
     },
     "execution_count": 140,
     "metadata": {},
     "output_type": "execute_result"
    }
   ],
   "source": [
    "from sklearn.metrics import accuracy_score\n",
    "accuracy_score(y_test, y_pred)"
   ]
  },
  {
   "cell_type": "code",
   "execution_count": 62,
   "id": "ed67526d",
   "metadata": {},
   "outputs": [],
   "source": [
    "# Creating the decision tree classifier instance.\n",
    "modelTree = tree.DecisionTreeClassifier()\n",
    "# Fitting the model.\n",
    "modelTree = modelTree.fit(X_train_scaled, y_train)"
   ]
  },
  {
   "cell_type": "code",
   "execution_count": 63,
   "id": "2f89fa06",
   "metadata": {},
   "outputs": [
    {
     "data": {
      "text/html": [
       "<div>\n",
       "<style scoped>\n",
       "    .dataframe tbody tr th:only-of-type {\n",
       "        vertical-align: middle;\n",
       "    }\n",
       "\n",
       "    .dataframe tbody tr th {\n",
       "        vertical-align: top;\n",
       "    }\n",
       "\n",
       "    .dataframe thead th {\n",
       "        text-align: right;\n",
       "    }\n",
       "</style>\n",
       "<table border=\"1\" class=\"dataframe\">\n",
       "  <thead>\n",
       "    <tr style=\"text-align: right;\">\n",
       "      <th></th>\n",
       "      <th>Prediction</th>\n",
       "      <th>Actual</th>\n",
       "    </tr>\n",
       "  </thead>\n",
       "  <tbody>\n",
       "    <tr>\n",
       "      <th>0</th>\n",
       "      <td>1</td>\n",
       "      <td>1</td>\n",
       "    </tr>\n",
       "    <tr>\n",
       "      <th>1</th>\n",
       "      <td>0</td>\n",
       "      <td>1</td>\n",
       "    </tr>\n",
       "    <tr>\n",
       "      <th>2</th>\n",
       "      <td>1</td>\n",
       "      <td>0</td>\n",
       "    </tr>\n",
       "    <tr>\n",
       "      <th>3</th>\n",
       "      <td>0</td>\n",
       "      <td>1</td>\n",
       "    </tr>\n",
       "    <tr>\n",
       "      <th>4</th>\n",
       "      <td>1</td>\n",
       "      <td>0</td>\n",
       "    </tr>\n",
       "  </tbody>\n",
       "</table>\n",
       "</div>"
      ],
      "text/plain": [
       "   Prediction  Actual\n",
       "0           1       1\n",
       "1           0       1\n",
       "2           1       0\n",
       "3           0       1\n",
       "4           1       0"
      ]
     },
     "execution_count": 63,
     "metadata": {},
     "output_type": "execute_result"
    }
   ],
   "source": [
    "predictions = model.predict(X_test_scaled)\n",
    "results = pd.DataFrame({\n",
    "    'Prediction':predictions,\n",
    "    'Actual': y_test\n",
    "}).reset_index(drop=True)\n",
    "results.head()"
   ]
  },
  {
   "cell_type": "code",
   "execution_count": 64,
   "id": "a9f3f1c8",
   "metadata": {},
   "outputs": [
    {
     "data": {
      "text/plain": [
       "0.4976452119309262"
      ]
     },
     "execution_count": 64,
     "metadata": {},
     "output_type": "execute_result"
    }
   ],
   "source": [
    "accuracy_score(y_test, predictions)"
   ]
  },
  {
   "cell_type": "code",
   "execution_count": 65,
   "id": "e3821906",
   "metadata": {},
   "outputs": [],
   "source": [
    "rf_model = RandomForestClassifier(n_estimators=256, random_state=1) "
   ]
  },
  {
   "cell_type": "code",
   "execution_count": 66,
   "id": "da2871ff",
   "metadata": {},
   "outputs": [],
   "source": [
    "rf_model = rf_model.fit(X_train_scaled, y_train)"
   ]
  },
  {
   "cell_type": "code",
   "execution_count": 67,
   "id": "189f3ba7",
   "metadata": {},
   "outputs": [],
   "source": [
    "predictions = rf_model.predict(X_test_scaled)"
   ]
  },
  {
   "cell_type": "code",
   "execution_count": 70,
   "id": "5d1042e5",
   "metadata": {},
   "outputs": [
    {
     "data": {
      "text/html": [
       "<div>\n",
       "<style scoped>\n",
       "    .dataframe tbody tr th:only-of-type {\n",
       "        vertical-align: middle;\n",
       "    }\n",
       "\n",
       "    .dataframe tbody tr th {\n",
       "        vertical-align: top;\n",
       "    }\n",
       "\n",
       "    .dataframe thead th {\n",
       "        text-align: right;\n",
       "    }\n",
       "</style>\n",
       "<table border=\"1\" class=\"dataframe\">\n",
       "  <thead>\n",
       "    <tr style=\"text-align: right;\">\n",
       "      <th></th>\n",
       "      <th>Predicted 0</th>\n",
       "      <th>Predicted 1</th>\n",
       "    </tr>\n",
       "  </thead>\n",
       "  <tbody>\n",
       "    <tr>\n",
       "      <th>Actual 0</th>\n",
       "      <td>393</td>\n",
       "      <td>261</td>\n",
       "    </tr>\n",
       "    <tr>\n",
       "      <th>Actual 1</th>\n",
       "      <td>339</td>\n",
       "      <td>281</td>\n",
       "    </tr>\n",
       "  </tbody>\n",
       "</table>\n",
       "</div>"
      ],
      "text/plain": [
       "          Predicted 0  Predicted 1\n",
       "Actual 0          393          261\n",
       "Actual 1          339          281"
      ]
     },
     "execution_count": 70,
     "metadata": {},
     "output_type": "execute_result"
    }
   ],
   "source": [
    "# Calculating the confusion matrix.\n",
    "cm = confusion_matrix(y_test, predictions)\n",
    "\n",
    "# Create a DataFrame from the confusion matrix.\n",
    "cm_df = pd.DataFrame(\n",
    "    cm, index=[\"Actual 0\", \"Actual 1\"], columns=[\"Predicted 0\", \"Predicted 1\"])\n",
    "acc_score = accuracy_score(y_test, predictions)\n",
    "cm_df\n"
   ]
  },
  {
   "cell_type": "code",
   "execution_count": 71,
   "id": "67767d42",
   "metadata": {},
   "outputs": [
    {
     "name": "stdout",
     "output_type": "stream",
     "text": [
      "Confusion Matrix\n"
     ]
    },
    {
     "data": {
      "text/html": [
       "<div>\n",
       "<style scoped>\n",
       "    .dataframe tbody tr th:only-of-type {\n",
       "        vertical-align: middle;\n",
       "    }\n",
       "\n",
       "    .dataframe tbody tr th {\n",
       "        vertical-align: top;\n",
       "    }\n",
       "\n",
       "    .dataframe thead th {\n",
       "        text-align: right;\n",
       "    }\n",
       "</style>\n",
       "<table border=\"1\" class=\"dataframe\">\n",
       "  <thead>\n",
       "    <tr style=\"text-align: right;\">\n",
       "      <th></th>\n",
       "      <th>Predicted 0</th>\n",
       "      <th>Predicted 1</th>\n",
       "    </tr>\n",
       "  </thead>\n",
       "  <tbody>\n",
       "    <tr>\n",
       "      <th>Actual 0</th>\n",
       "      <td>393</td>\n",
       "      <td>261</td>\n",
       "    </tr>\n",
       "    <tr>\n",
       "      <th>Actual 1</th>\n",
       "      <td>339</td>\n",
       "      <td>281</td>\n",
       "    </tr>\n",
       "  </tbody>\n",
       "</table>\n",
       "</div>"
      ],
      "text/plain": [
       "          Predicted 0  Predicted 1\n",
       "Actual 0          393          261\n",
       "Actual 1          339          281"
      ]
     },
     "metadata": {},
     "output_type": "display_data"
    },
    {
     "name": "stdout",
     "output_type": "stream",
     "text": [
      "Accuracy Score : 0.5290423861852434\n",
      "Classification Report\n",
      "              precision    recall  f1-score   support\n",
      "\n",
      "           0       0.54      0.60      0.57       654\n",
      "           1       0.52      0.45      0.48       620\n",
      "\n",
      "    accuracy                           0.53      1274\n",
      "   macro avg       0.53      0.53      0.53      1274\n",
      "weighted avg       0.53      0.53      0.53      1274\n",
      "\n"
     ]
    }
   ],
   "source": [
    "# Displaying results\n",
    "print(\"Confusion Matrix\")\n",
    "display(cm_df)\n",
    "print(f\"Accuracy Score : {acc_score}\")\n",
    "print(\"Classification Report\")\n",
    "print(classification_report(y_test, predictions))"
   ]
  },
  {
   "cell_type": "code",
   "execution_count": 73,
   "id": "63db9a31",
   "metadata": {},
   "outputs": [
    {
     "data": {
      "text/plain": [
       "[(0.043836092800739634, 'over_under'),\n",
       " (0.04281569484520423, 'team_away_dvoa_offense'),\n",
       " (0.0420060218861691, 'team_home_dvoa_offense'),\n",
       " (0.041632525323701104, 'team_home_dvoa_dave'),\n",
       " (0.04127358778527518, 'index'),\n",
       " (0.04035865601657458, 'team_away_off_pace_neutral'),\n",
       " (0.039855703347396305, 'team_home_def_pace_total'),\n",
       " (0.039163732874457347, 'team_away_off_pace_total'),\n",
       " (0.03915582742103576, 'team_home_dvoa_defense'),\n",
       " (0.03914510036717627, 'team_away_dvoa_dave'),\n",
       " (0.03899083129714876, 'team_home_off_pace_total'),\n",
       " (0.03846761471250396, 'team_away_def_pace_total'),\n",
       " (0.03836667971036657, 'team_home_def_pace_neutral'),\n",
       " (0.03833770105126334, 'team_away_def_pace_neutral'),\n",
       " (0.037615965136147254, 'team_away_dvoa_defense'),\n",
       " (0.03753796771870069, 'team_home_off_pace_neutral'),\n",
       " (0.035783995804060595, 'team_away_dvoa_weighted'),\n",
       " (0.03572105148274688, 'week'),\n",
       " (0.035665415208306295, 'temperature'),\n",
       " (0.03458917124002575, 'favorite_spread'),\n",
       " (0.03431978152651531, 'team_away_dvoa_overall'),\n",
       " (0.03431564393405865, 'team_home_dvoa_overall'),\n",
       " (0.03386845061892746, 'team_home_dvoa_weighted'),\n",
       " (0.03209091103155104, 'team_away_dvoa_special'),\n",
       " (0.03146960392980414, 'team_home_dvoa_special'),\n",
       " (0.029898626019009757, 'wind_mph'),\n",
       " (0.020115633112824424, 'year'),\n",
       " (0.0036020137983094765, 'dome_binary')]"
      ]
     },
     "execution_count": 73,
     "metadata": {},
     "output_type": "execute_result"
    }
   ],
   "source": [
    "importances = rf_model.feature_importances_\n",
    "sorted(zip(rf_model.feature_importances_, X.columns), reverse=True)"
   ]
  },
  {
   "cell_type": "code",
   "execution_count": 115,
   "id": "5519fcd1",
   "metadata": {},
   "outputs": [],
   "source": [
    "classifier = GradientBoostingClassifier(n_estimators=50,\n",
    "   learning_rate=0.1, max_features=5, max_depth=3, random_state=0)\n",
    "\n",
    "classifier.fit(X_train_scaled, y_train)\n",
    "predictions = classifier.predict(X_test_scaled)"
   ]
  },
  {
   "cell_type": "code",
   "execution_count": 116,
   "id": "e35bacdf",
   "metadata": {},
   "outputs": [
    {
     "name": "stdout",
     "output_type": "stream",
     "text": [
      "Accuracy Score : 0.5698587127158555\n"
     ]
    }
   ],
   "source": [
    "acc_score = accuracy_score(y_test, predictions)\n",
    "print(f\"Accuracy Score : {acc_score}\")"
   ]
  }
 ],
 "metadata": {
  "kernelspec": {
   "display_name": "mlenv",
   "language": "python",
   "name": "mlenv"
  },
  "language_info": {
   "codemirror_mode": {
    "name": "ipython",
    "version": 3
   },
   "file_extension": ".py",
   "mimetype": "text/x-python",
   "name": "python",
   "nbconvert_exporter": "python",
   "pygments_lexer": "ipython3",
   "version": "3.7.13"
  }
 },
 "nbformat": 4,
 "nbformat_minor": 5
}
